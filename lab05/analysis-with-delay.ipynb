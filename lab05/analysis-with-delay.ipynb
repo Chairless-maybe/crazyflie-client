{
 "cells": [
  {
   "cell_type": "markdown",
   "id": "52589e3c",
   "metadata": {},
   "source": [
    "# Design a working controller"
   ]
  },
  {
   "cell_type": "markdown",
   "id": "f4233d19",
   "metadata": {},
   "source": [
    "## 1. Set up the notebook"
   ]
  },
  {
   "cell_type": "markdown",
   "id": "38bcc561",
   "metadata": {},
   "source": [
    "### 1.1 Do imports"
   ]
  },
  {
   "cell_type": "code",
   "execution_count": 1,
   "id": "294d9f2d",
   "metadata": {},
   "outputs": [],
   "source": [
    "import numpy as np\n",
    "import sympy as sym\n",
    "from scipy import linalg\n",
    "import matplotlib.pyplot as plt\n",
    "from ae483tools import *"
   ]
  },
  {
   "cell_type": "markdown",
   "id": "accaf873",
   "metadata": {},
   "source": [
    "### 1.2 Create autoencoders"
   ]
  },
  {
   "cell_type": "markdown",
   "id": "54c1d7f9",
   "metadata": {},
   "source": [
    "Define a function to print code that implements linear state feedback."
   ]
  },
  {
   "cell_type": "code",
   "execution_count": 2,
   "id": "7dd92163",
   "metadata": {},
   "outputs": [],
   "source": [
    "def export_controller(K, s, i, s_with_des, i_eq,\n",
    "                      decimals=8,\n",
    "                      suffix='',\n",
    "                      line_ending=''):\n",
    "    \"\"\"\n",
    "    K is a gain matrix, of size m x n\n",
    "    s is a list of states as symbolic variables, of length n\n",
    "    i is a list of inputs as symbolic variables, of length m\n",
    "    s_with_des is a list of states that have desired values, as\n",
    "        symbolic variables - if there are no such states, then\n",
    "        this should be an empty list []\n",
    "    i_eq is a list of equilibrium values of inputs, of length m\n",
    "    decimals is the number of decimals to include when printing\n",
    "        each value\n",
    "    suffix is the character (if any) to print after each number,\n",
    "        for example 'f' to indicate a \"float\" when exporting to C\n",
    "    line_ending is the character (if any) to print after each\n",
    "        line, for example ';' when exporting to C\n",
    "    \"\"\"\n",
    "    \n",
    "    s_name = [scur.name for scur in s]\n",
    "    i_name = [icur.name for icur in i]\n",
    "    for row in range(len(i_name)):\n",
    "        input_string = ''\n",
    "        for col in range(len(s_name)):\n",
    "            k = K[row, col]\n",
    "            if not np.isclose(k, 0.):\n",
    "                if (k < 0) and input_string:\n",
    "                    input_string += ' +'\n",
    "                if s[col] in s_with_des:\n",
    "                    n = f'({s_name[col]} - {s_name[col]}_des)'\n",
    "                else:\n",
    "                    n = s_name[col]\n",
    "                input_string += f' {-k:.{decimals}f}{suffix} * {n}'\n",
    "        if not np.isclose(i_eq[row], 0.):\n",
    "            if (i_eq[row] > 0) and input_string:\n",
    "                input_string += ' +'\n",
    "            input_string += f' {i_eq[row]:.{decimals}f}{suffix}'\n",
    "        print(f'{i_name[row]} ={input_string}{line_ending}')"
   ]
  },
  {
   "cell_type": "markdown",
   "id": "0e293d79",
   "metadata": {},
   "source": [
    "Define a function to print code that implements a method of power distribution."
   ]
  },
  {
   "cell_type": "code",
   "execution_count": 3,
   "id": "0f9ec9de",
   "metadata": {},
   "outputs": [],
   "source": [
    "def export_power_distribution(Pinv,\n",
    "                              i=sym.symbols(['tau_x', 'tau_y', 'tau_z', 'f_z']),\n",
    "                              m=sym.symbols(['m_1', 'm_2', 'm_3', 'm_4']),\n",
    "                              limiter='self.limitUint16',\n",
    "                              decimals=1,\n",
    "                              suffix='',\n",
    "                              line_ending=''):\n",
    "    \"\"\"\n",
    "    Pinv is a 4 x 4 matrix that maps inputs to motor power commands\n",
    "    i is a list of inputs as symbolic variables (by default, this list\n",
    "        is ['tau_x', 'tau_y', 'tau_z', 'f_z'])\n",
    "    m is a list of motor power commands as symbolic variables (by default,\n",
    "        this list is ['m_1', 'm_2', 'm_3', 'm_4'])\n",
    "    limiter is the name of the function to apply that ensures each\n",
    "        motor power command is valid (i.e., an integer within bounds),\n",
    "        for example \"limitUint16\" when exporting to C\n",
    "    decimals is the number of decimals to include when printing\n",
    "        each value\n",
    "    suffix is the character (if any) to print after each number,\n",
    "        for example 'f' to indicate a \"float\" when exporting to C\n",
    "    line_ending is the character (if any) to print after each\n",
    "        line, for example ';' when exporting to C\n",
    "    \"\"\"\n",
    "    \n",
    "    i_name = [icur.name for icur in i]\n",
    "    m_name = [mcur.name for mcur in m]\n",
    "    for row in range(len(m_name)):\n",
    "        input_string = ''\n",
    "        for col in range(len(i_name)):\n",
    "            k = Pinv[row, col]\n",
    "            if not np.isclose(k, 0.):\n",
    "                if (k > 0) and input_string:\n",
    "                    input_string += ' +'\n",
    "                n = i_name[col]\n",
    "                input_string += f' {k:.{decimals}f}{suffix} * {n}'\n",
    "        print(f'{m_name[row]} = {limiter}({input_string} ){line_ending}')"
   ]
  },
  {
   "cell_type": "markdown",
   "id": "03a6354d",
   "metadata": {},
   "source": [
    "### 1.3 Create an LQR solver"
   ]
  },
  {
   "cell_type": "markdown",
   "id": "54595de9",
   "metadata": {},
   "source": [
    "Define a function that solves the linear quadratic regulator (LQR) problem."
   ]
  },
  {
   "cell_type": "code",
   "execution_count": 4,
   "id": "76ef860b",
   "metadata": {},
   "outputs": [],
   "source": [
    "def lqr(A, B, Q, R):\n",
    "    P = linalg.solve_continuous_are(A, B, Q, R)\n",
    "    K = linalg.inv(R) @  B.T @ P\n",
    "    return K"
   ]
  },
  {
   "cell_type": "markdown",
   "id": "9916514f",
   "metadata": {},
   "source": [
    "## 2. Derive equations of motion"
   ]
  },
  {
   "cell_type": "markdown",
   "id": "35c1d51d",
   "metadata": {},
   "source": [
    "### 2.1 Define symbolic variables"
   ]
  },
  {
   "cell_type": "markdown",
   "id": "e2ff5fef",
   "metadata": {},
   "source": [
    "Define states."
   ]
  },
  {
   "cell_type": "code",
   "execution_count": 5,
   "id": "0402b5da",
   "metadata": {},
   "outputs": [],
   "source": [
    "# components of position (meters)\n",
    "p_x, p_y, p_z = sym.symbols('p_x, p_y, p_z')\n",
    "\n",
    "# yaw, pitch, and roll angles (radians)\n",
    "psi, theta, phi = sym.symbols('psi, theta, phi')\n",
    "\n",
    "# components of linear velocity (meters / second)\n",
    "v_x, v_y, v_z = sym.symbols('v_x, v_y, v_z')\n",
    "\n",
    "# components of angular velocity (radians / second)\n",
    "w_x, w_y, w_z = sym.symbols('w_x, w_y, w_z')\n",
    "\n",
    "# components of torque (Newtons * meters)\n",
    "tau_x, tau_y = sym.symbols('tau_x, tau_y')"
   ]
  },
  {
   "cell_type": "markdown",
   "id": "570af22c",
   "metadata": {},
   "source": [
    "Define inputs."
   ]
  },
  {
   "cell_type": "code",
   "execution_count": 6,
   "id": "ad893cec",
   "metadata": {},
   "outputs": [],
   "source": [
    "# components of net rotor torque\n",
    "tau_z = sym.symbols('tau_z')\n",
    "\n",
    "# components of torque commands\n",
    "tau_x_cmd, tau_y_cmd = sym.symbols('tau_x_cmd, tau_y_cmd')\n",
    "\n",
    "# net rotor force\n",
    "f_z = sym.symbols('f_z')"
   ]
  },
  {
   "cell_type": "markdown",
   "id": "ed8ded70",
   "metadata": {},
   "source": [
    "Define parameters."
   ]
  },
  {
   "cell_type": "code",
   "execution_count": 7,
   "id": "e4962fab",
   "metadata": {},
   "outputs": [],
   "source": [
    "m, J_x, J_y, J_z, g, T_F = sym.symbols('m, J_x, J_y, J_z, g, T_F')"
   ]
  },
  {
   "cell_type": "markdown",
   "id": "7368343d",
   "metadata": {},
   "source": [
    "Create the linear velocity vector $v^B_{W, B}$ and the angular velocity vector $w^B_{W, B}$, both written in the coordinates of the body frame."
   ]
  },
  {
   "cell_type": "code",
   "execution_count": 8,
   "id": "9d524269",
   "metadata": {},
   "outputs": [],
   "source": [
    "v_inB_ofWB = sym.Matrix([v_x, v_y, v_z])\n",
    "w_inB_ofWB = sym.Matrix([w_x, w_y, w_z])"
   ]
  },
  {
   "cell_type": "markdown",
   "id": "d3d1fdd3",
   "metadata": {},
   "source": [
    "Create moment of inertia matrix (in coordinates of the body frame)."
   ]
  },
  {
   "cell_type": "code",
   "execution_count": 9,
   "id": "b3036cb7",
   "metadata": {},
   "outputs": [],
   "source": [
    "J_inB = sym.diag(J_x, J_y, J_z)"
   ]
  },
  {
   "cell_type": "markdown",
   "id": "851ff168",
   "metadata": {},
   "source": [
    "### 2.2 Define kinematics of orientation"
   ]
  },
  {
   "cell_type": "markdown",
   "id": "f68e60c2",
   "metadata": {},
   "source": [
    "#### 2.2.1 Rotation matrix in terms of yaw, pitch, roll angles"
   ]
  },
  {
   "cell_type": "markdown",
   "id": "3e03c29d",
   "metadata": {},
   "source": [
    "Define individual rotation matrices."
   ]
  },
  {
   "cell_type": "code",
   "execution_count": 10,
   "id": "1f70f130",
   "metadata": {},
   "outputs": [],
   "source": [
    "Rz = sym.Matrix([[sym.cos(psi), -sym.sin(psi), 0],\n",
    "                 [sym.sin(psi), sym.cos(psi), 0],\n",
    "                 [0, 0, 1]])\n",
    "\n",
    "Ry = sym.Matrix([[sym.cos(theta), 0, sym.sin(theta)],\n",
    "                 [0, 1, 0],\n",
    "                 [-sym.sin(theta), 0, sym.cos(theta)]])\n",
    "\n",
    "Rx = sym.Matrix([[1, 0, 0],\n",
    "                 [0, sym.cos(phi), -sym.sin(phi)],\n",
    "                 [0, sym.sin(phi), sym.cos(phi)]])"
   ]
  },
  {
   "cell_type": "markdown",
   "id": "e494d515",
   "metadata": {},
   "source": [
    "Apply sequential transformation to compute the rotation matrix that describes the orientation of the drone (i.e., of frame $B$ in the coordinates of frame $W$)."
   ]
  },
  {
   "cell_type": "code",
   "execution_count": 11,
   "id": "9a4041f3",
   "metadata": {},
   "outputs": [],
   "source": [
    "R_inW_ofB = Rz * Ry * Rx"
   ]
  },
  {
   "cell_type": "markdown",
   "id": "69ac916b",
   "metadata": {},
   "source": [
    "#### 2.2.2 Map from angular velocity to angular rates"
   ]
  },
  {
   "cell_type": "markdown",
   "id": "bb2179ef",
   "metadata": {},
   "source": [
    "Recall that\n",
    "\n",
    "$$\\begin{bmatrix} \\dot{\\psi} \\\\ \\dot{\\theta} \\\\ \\dot{\\phi} \\end{bmatrix} = N w_{W, B}^{B}$$\n",
    "\n",
    "for some matrix $N$. Here is how to compute that matrix for a ZYX (yaw, pitch, roll) Euler angle sequence.  First, we compute its inverse:"
   ]
  },
  {
   "cell_type": "code",
   "execution_count": 12,
   "id": "4ceedf24",
   "metadata": {},
   "outputs": [],
   "source": [
    "Ninv = sym.Matrix.hstack((Ry * Rx).T * sym.Matrix([0, 0, 1]),\n",
    "                              (Rx).T * sym.Matrix([0, 1, 0]),\n",
    "                                       sym.Matrix([1, 0, 0]))"
   ]
  },
  {
   "cell_type": "markdown",
   "id": "938044d2",
   "metadata": {},
   "source": [
    "Then, we compute $N$ by taking the inverse of $N^{-1}$:"
   ]
  },
  {
   "cell_type": "code",
   "execution_count": 13,
   "id": "41071e08",
   "metadata": {},
   "outputs": [],
   "source": [
    "N = sym.simplify(Ninv.inv())"
   ]
  },
  {
   "cell_type": "markdown",
   "id": "7cea7d8c",
   "metadata": {},
   "source": [
    "### 2.3 Define equations of motion"
   ]
  },
  {
   "cell_type": "markdown",
   "id": "55b3dfb6",
   "metadata": {},
   "source": [
    "Forces."
   ]
  },
  {
   "cell_type": "code",
   "execution_count": 14,
   "id": "e6bc0c8f",
   "metadata": {},
   "outputs": [],
   "source": [
    "f_inB = R_inW_ofB.T * sym.Matrix([0, 0, -m * g]) + sym.Matrix([0, 0, f_z])"
   ]
  },
  {
   "cell_type": "markdown",
   "id": "7985bc37",
   "metadata": {},
   "source": [
    "Torques."
   ]
  },
  {
   "cell_type": "code",
   "execution_count": 15,
   "id": "ea1968b3",
   "metadata": {},
   "outputs": [],
   "source": [
    "tau_inB = sym.Matrix([tau_x, tau_y, tau_z])"
   ]
  },
  {
   "cell_type": "markdown",
   "id": "86304fb4",
   "metadata": {},
   "source": [
    "Torques with time delay"
   ]
  },
  {
   "cell_type": "code",
   "execution_count": 16,
   "id": "e05be4f1",
   "metadata": {},
   "outputs": [],
   "source": [
    "tau_eqs = sym.Matrix([1 / T_F * (tau_x_cmd - tau_x), 1 / T_F * (tau_y_cmd - tau_y)])"
   ]
  },
  {
   "cell_type": "markdown",
   "id": "d7bba8a1",
   "metadata": {},
   "source": [
    "Create equations of motion."
   ]
  },
  {
   "cell_type": "code",
   "execution_count": 17,
   "id": "7fbaebc8",
   "metadata": {},
   "outputs": [],
   "source": [
    "f_sym = sym.Matrix.vstack(\n",
    "    R_inW_ofB * v_inB_ofWB,\n",
    "    N * w_inB_ofWB,\n",
    "    (1 / m) * (f_inB - w_inB_ofWB.cross(m * v_inB_ofWB)),\n",
    "    J_inB.inv() * (tau_inB - w_inB_ofWB.cross(J_inB * v_inB_ofWB)),\n",
    "    tau_eqs\n",
    ")"
   ]
  },
  {
   "cell_type": "markdown",
   "id": "21ec268b",
   "metadata": {},
   "source": [
    "Show the right-hand side of the equations of motion, which have the form\n",
    "\n",
    "$$\\dot{s} = f(s, i, p)$$\n",
    "\n",
    "for states\n",
    "\n",
    "$$\n",
    "s = \\begin{bmatrix} p_x \\\\ p_y \\\\ p_z \\\\ \\psi \\\\ \\theta \\\\ \\phi \\\\ v_x \\\\ v_y \\\\ v_z \\\\ w_x \\\\ w_y \\\\ w_z \\\\ \\tau_x \\\\ \\tau_y \\end{bmatrix},\n",
    "$$\n",
    "\n",
    "inputs\n",
    "$$\n",
    "i = \\begin{bmatrix} \\tau_{x,cmd} \\\\ \\tau_{y,cmd} \\\\ \\tau_z \\\\ f_z \\end{bmatrix},\n",
    "$$\n",
    "\n",
    "and parameters\n",
    "$$\n",
    "p = \\begin{bmatrix} m \\\\ J_x \\\\ J_y \\\\ J_z \\\\ g \\end{bmatrix}.\n",
    "$$"
   ]
  },
  {
   "cell_type": "code",
   "execution_count": 18,
   "id": "b9252fb2",
   "metadata": {},
   "outputs": [
    {
     "data": {
      "text/latex": [
       "$\\displaystyle \\left[\\begin{matrix}v_{x} \\cos{\\left(\\psi \\right)} \\cos{\\left(\\theta \\right)} + v_{y} \\left(\\sin{\\left(\\phi \\right)} \\sin{\\left(\\theta \\right)} \\cos{\\left(\\psi \\right)} - \\sin{\\left(\\psi \\right)} \\cos{\\left(\\phi \\right)}\\right) + v_{z} \\left(\\sin{\\left(\\phi \\right)} \\sin{\\left(\\psi \\right)} + \\sin{\\left(\\theta \\right)} \\cos{\\left(\\phi \\right)} \\cos{\\left(\\psi \\right)}\\right)\\\\v_{x} \\sin{\\left(\\psi \\right)} \\cos{\\left(\\theta \\right)} + v_{y} \\left(\\sin{\\left(\\phi \\right)} \\sin{\\left(\\psi \\right)} \\sin{\\left(\\theta \\right)} + \\cos{\\left(\\phi \\right)} \\cos{\\left(\\psi \\right)}\\right) + v_{z} \\left(- \\sin{\\left(\\phi \\right)} \\cos{\\left(\\psi \\right)} + \\sin{\\left(\\psi \\right)} \\sin{\\left(\\theta \\right)} \\cos{\\left(\\phi \\right)}\\right)\\\\- v_{x} \\sin{\\left(\\theta \\right)} + v_{y} \\sin{\\left(\\phi \\right)} \\cos{\\left(\\theta \\right)} + v_{z} \\cos{\\left(\\phi \\right)} \\cos{\\left(\\theta \\right)}\\\\\\frac{w_{y} \\sin{\\left(\\phi \\right)}}{\\cos{\\left(\\theta \\right)}} + \\frac{w_{z} \\cos{\\left(\\phi \\right)}}{\\cos{\\left(\\theta \\right)}}\\\\w_{y} \\cos{\\left(\\phi \\right)} - w_{z} \\sin{\\left(\\phi \\right)}\\\\w_{x} + w_{y} \\sin{\\left(\\phi \\right)} \\tan{\\left(\\theta \\right)} + w_{z} \\cos{\\left(\\phi \\right)} \\tan{\\left(\\theta \\right)}\\\\\\frac{g m \\sin{\\left(\\theta \\right)} + m v_{y} w_{z} - m v_{z} w_{y}}{m}\\\\\\frac{- g m \\sin{\\left(\\phi \\right)} \\cos{\\left(\\theta \\right)} - m v_{x} w_{z} + m v_{z} w_{x}}{m}\\\\\\frac{f_{z} - g m \\cos{\\left(\\phi \\right)} \\cos{\\left(\\theta \\right)} + m v_{x} w_{y} - m v_{y} w_{x}}{m}\\\\\\frac{J_{y} v_{y} w_{z} - J_{z} v_{z} w_{y} + \\tau_{x}}{J_{x}}\\\\\\frac{- J_{x} v_{x} w_{z} + J_{z} v_{z} w_{x} + \\tau_{y}}{J_{y}}\\\\\\frac{J_{x} v_{x} w_{y} - J_{y} v_{y} w_{x} + \\tau_{z}}{J_{z}}\\\\\\frac{- \\tau_{x} + \\tau_{x cmd}}{T_{F}}\\\\\\frac{- \\tau_{y} + \\tau_{y cmd}}{T_{F}}\\end{matrix}\\right]$"
      ],
      "text/plain": [
       "Matrix([\n",
       "[ v_x*cos(psi)*cos(theta) + v_y*(sin(phi)*sin(theta)*cos(psi) - sin(psi)*cos(phi)) + v_z*(sin(phi)*sin(psi) + sin(theta)*cos(phi)*cos(psi))],\n",
       "[v_x*sin(psi)*cos(theta) + v_y*(sin(phi)*sin(psi)*sin(theta) + cos(phi)*cos(psi)) + v_z*(-sin(phi)*cos(psi) + sin(psi)*sin(theta)*cos(phi))],\n",
       "[                                                                       -v_x*sin(theta) + v_y*sin(phi)*cos(theta) + v_z*cos(phi)*cos(theta)],\n",
       "[                                                                                         w_y*sin(phi)/cos(theta) + w_z*cos(phi)/cos(theta)],\n",
       "[                                                                                                               w_y*cos(phi) - w_z*sin(phi)],\n",
       "[                                                                                   w_x + w_y*sin(phi)*tan(theta) + w_z*cos(phi)*tan(theta)],\n",
       "[                                                                                                (g*m*sin(theta) + m*v_y*w_z - m*v_z*w_y)/m],\n",
       "[                                                                                      (-g*m*sin(phi)*cos(theta) - m*v_x*w_z + m*v_z*w_x)/m],\n",
       "[                                                                                 (f_z - g*m*cos(phi)*cos(theta) + m*v_x*w_y - m*v_y*w_x)/m],\n",
       "[                                                                                                   (J_y*v_y*w_z - J_z*v_z*w_y + tau_x)/J_x],\n",
       "[                                                                                                  (-J_x*v_x*w_z + J_z*v_z*w_x + tau_y)/J_y],\n",
       "[                                                                                                   (J_x*v_x*w_y - J_y*v_y*w_x + tau_z)/J_z],\n",
       "[                                                                                                                  (-tau_x + tau_x_cmd)/T_F],\n",
       "[                                                                                                                  (-tau_y + tau_y_cmd)/T_F]])"
      ]
     },
     "execution_count": 18,
     "metadata": {},
     "output_type": "execute_result"
    }
   ],
   "source": [
    "f_sym"
   ]
  },
  {
   "cell_type": "markdown",
   "id": "c85ab58b",
   "metadata": {},
   "source": [
    "## 3. Derive state-space model"
   ]
  },
  {
   "cell_type": "markdown",
   "id": "9155a7fe",
   "metadata": {},
   "source": [
    "### 3.1 Choose equilibrium point\n",
    "\n",
    "An equilibrium point of the nonlinear system is a choice of states $s_\\text{eq}$ and inputs $i_\\text{eq}$ — along with constant parameters $p_\\text{eq}$ — for which\n",
    "\n",
    "$$0 = f(s_\\text{eq}, i_\\text{eq}, p_\\text{eq}).$$"
   ]
  },
  {
   "cell_type": "markdown",
   "id": "c75d528a",
   "metadata": {},
   "source": [
    "Create a list of states, inputs, and parameters as symbolic variables."
   ]
  },
  {
   "cell_type": "code",
   "execution_count": 19,
   "id": "625354b7",
   "metadata": {},
   "outputs": [],
   "source": [
    "s = [p_x, p_y, p_z, psi, theta, phi, v_x, v_y, v_z, w_x, w_y, w_z, tau_x, tau_y]\n",
    "i = [tau_x_cmd, tau_y_cmd, tau_z, f_z]\n",
    "p = [m, J_x, J_y, J_z, g, T_F]"
   ]
  },
  {
   "cell_type": "markdown",
   "id": "641180b9",
   "metadata": {},
   "source": [
    "Create a list of states to track as symbolic variables. These are states whose desired values will be specified by a client."
   ]
  },
  {
   "cell_type": "code",
   "execution_count": 20,
   "id": "9fac5bdd",
   "metadata": {},
   "outputs": [],
   "source": [
    "s_with_des = [p_x, p_y, p_z]"
   ]
  },
  {
   "cell_type": "markdown",
   "id": "7d2abd7e",
   "metadata": {},
   "source": [
    "Create a function that evaluates $f(\\cdot)$ at particular values of $s$, $i$, and $p$."
   ]
  },
  {
   "cell_type": "code",
   "execution_count": 21,
   "id": "4d17f08f",
   "metadata": {},
   "outputs": [],
   "source": [
    "f = sym.lambdify(s + i + p, f_sym)"
   ]
  },
  {
   "cell_type": "markdown",
   "id": "d98773f6",
   "metadata": {},
   "source": [
    "Define constants."
   ]
  },
  {
   "cell_type": "code",
   "execution_count": 22,
   "id": "47fb1476",
   "metadata": {},
   "outputs": [],
   "source": [
    "# Mass\n",
    "m = 0.035\n",
    "\n",
    "# Principle moments of inertia\n",
    "J_x = 1.33e-05\n",
    "J_y = 1.80e-05\n",
    "J_z = 3.74e-05\n",
    "\n",
    "# Acceleration of gravity\n",
    "g = 9.81\n",
    "\n",
    "# Force time delay\n",
    "T_F = 0.075"
   ]
  },
  {
   "cell_type": "markdown",
   "id": "e53dbfa0",
   "metadata": {},
   "source": [
    "Create a list of parameter values in the **same order** as the symbolic list. These are the parameter estimates we found in our experiments. They are not choices. (We use the subscript `_eq` to be consistent with what follows, and could say \"parameter values *at equilibrium*,\" but don't be misled. These parameter values are *given* and are *constant* - again, they aren't choices.)"
   ]
  },
  {
   "cell_type": "code",
   "execution_count": 23,
   "id": "8d10f651",
   "metadata": {},
   "outputs": [],
   "source": [
    "p_eq = [m, J_x, J_y, J_z, g, T_F]"
   ]
  },
  {
   "cell_type": "markdown",
   "id": "5f89e5d8",
   "metadata": {},
   "source": [
    "Create a list of state and input values at equilibrium in the **same order** as the symbolic lists."
   ]
  },
  {
   "cell_type": "code",
   "execution_count": 24,
   "id": "de2de4fa",
   "metadata": {},
   "outputs": [],
   "source": [
    "s_eq = [0., 0., 0.5, 0., 0., 0., 0., 0., 0., 0., 0., 0., 0., 0.]\n",
    "i_eq = [0., 0., 0., m * g]"
   ]
  },
  {
   "cell_type": "markdown",
   "id": "f348d155",
   "metadata": {},
   "source": [
    "Evaluate the equations of motion at the equilibrium point — if it actually *is* an equilibrium point, then the result should be an array of zeros:"
   ]
  },
  {
   "cell_type": "code",
   "execution_count": 25,
   "id": "69fad4a6",
   "metadata": {},
   "outputs": [
    {
     "name": "stdout",
     "output_type": "stream",
     "text": [
      "[[0.]\n",
      " [0.]\n",
      " [0.]\n",
      " [0.]\n",
      " [0.]\n",
      " [0.]\n",
      " [0.]\n",
      " [0.]\n",
      " [0.]\n",
      " [0.]\n",
      " [0.]\n",
      " [0.]\n",
      " [0.]\n",
      " [0.]]\n"
     ]
    }
   ],
   "source": [
    "print(f(*s_eq, *i_eq, *p_eq))\n",
    "assert(np.allclose(f(*s_eq, *i_eq, *p_eq), 0.))"
   ]
  },
  {
   "cell_type": "markdown",
   "id": "a7be0a7c",
   "metadata": {},
   "source": [
    "Note that this equilibrium point would remain an equilibrium point for any choice of `p_x`, `p_y`, and `p_z` — that is one thing that allows the controller to track desired values of these variables."
   ]
  },
  {
   "cell_type": "markdown",
   "id": "3aea14ba",
   "metadata": {},
   "source": [
    "### 3.2 Compute A and B"
   ]
  },
  {
   "cell_type": "markdown",
   "id": "0f06c0f6",
   "metadata": {},
   "source": [
    "We want to find\n",
    "\n",
    "$$\n",
    "A = \\frac{\\partial f}{\\partial s}\\biggr\\vert_{(s, i, p) = (s_\\text{eq}, i_\\text{eq}, p_\\text{eq})}\n",
    "\\qquad\\text{and}\\qquad\n",
    "B = \\frac{\\partial f}{\\partial i}\\biggr\\vert_{(s, i, p) = (s_\\text{eq}, i_\\text{eq}, p_\\text{eq})}.\n",
    "$$\n",
    "\n",
    "First, we compute each Jacobian (i.e., each matrix of partial derivatives) in symbolic form."
   ]
  },
  {
   "cell_type": "code",
   "execution_count": 26,
   "id": "be3be0c0",
   "metadata": {},
   "outputs": [],
   "source": [
    "A_sym = f_sym.jacobian(s)\n",
    "B_sym = f_sym.jacobian(i)"
   ]
  },
  {
   "cell_type": "markdown",
   "id": "b9036e88",
   "metadata": {},
   "source": [
    "Then, we create functions that allow us to evaluate these Jacobians at particular values of $s$, $i$, and $p$."
   ]
  },
  {
   "cell_type": "code",
   "execution_count": 27,
   "id": "63b9dadc",
   "metadata": {},
   "outputs": [],
   "source": [
    "A_num = sym.lambdify(s + i + p, A_sym)\n",
    "B_num = sym.lambdify(s + i + p, B_sym)"
   ]
  },
  {
   "cell_type": "markdown",
   "id": "5e3e54a8",
   "metadata": {},
   "source": [
    "Finally, we plug in our equilibrium point."
   ]
  },
  {
   "cell_type": "code",
   "execution_count": 28,
   "id": "133b55e3",
   "metadata": {},
   "outputs": [],
   "source": [
    "A = A_num(*s_eq, *i_eq, *p_eq)\n",
    "B = B_num(*s_eq, *i_eq, *p_eq)"
   ]
  },
  {
   "cell_type": "markdown",
   "id": "00b536e1",
   "metadata": {},
   "source": [
    "Show $A$ (formatted nicely)."
   ]
  },
  {
   "cell_type": "code",
   "execution_count": 29,
   "id": "1b1301f5",
   "metadata": {},
   "outputs": [
    {
     "name": "stdout",
     "output_type": "stream",
     "text": [
      "A = [[ 0.000  0.000  0.000  0.000  0.000  0.000  1.000  0.000  0.000  0.000  0.000  0.000  0.000  0.000]\n",
      "     [ 0.000  0.000  0.000  0.000  0.000  0.000  0.000  1.000  0.000  0.000  0.000  0.000  0.000  0.000]\n",
      "     [ 0.000  0.000  0.000  0.000 -0.000  0.000 -0.000  0.000  1.000  0.000  0.000  0.000  0.000  0.000]\n",
      "     [ 0.000  0.000  0.000  0.000  0.000  0.000  0.000  0.000  0.000  0.000  0.000  1.000  0.000  0.000]\n",
      "     [ 0.000  0.000  0.000  0.000  0.000 -0.000  0.000  0.000  0.000  0.000  1.000 -0.000  0.000  0.000]\n",
      "     [ 0.000  0.000  0.000  0.000  0.000  0.000  0.000  0.000  0.000  1.000  0.000  0.000  0.000  0.000]\n",
      "     [ 0.000  0.000  0.000  0.000  9.810  0.000  0.000  0.000 -0.000  0.000 -0.000  0.000  0.000  0.000]\n",
      "     [ 0.000  0.000  0.000  0.000  0.000 -9.810 -0.000  0.000  0.000  0.000  0.000 -0.000  0.000  0.000]\n",
      "     [ 0.000  0.000  0.000  0.000  0.000  0.000  0.000 -0.000  0.000 -0.000  0.000  0.000  0.000  0.000]\n",
      "     [ 0.000  0.000  0.000  0.000  0.000  0.000  0.000  0.000 -0.000  0.000 -0.000  0.000 75187.970  0.000]\n",
      "     [ 0.000  0.000  0.000  0.000  0.000  0.000 -0.000  0.000  0.000  0.000  0.000 -0.000  0.000 55555.556]\n",
      "     [ 0.000  0.000  0.000  0.000  0.000  0.000  0.000 -0.000  0.000 -0.000  0.000  0.000  0.000  0.000]\n",
      "     [ 0.000  0.000  0.000  0.000  0.000  0.000  0.000  0.000  0.000  0.000  0.000  0.000 -13.333  0.000]\n",
      "     [ 0.000  0.000  0.000  0.000  0.000  0.000  0.000  0.000  0.000  0.000  0.000  0.000  0.000 -13.333]]\n"
     ]
    }
   ],
   "source": [
    "A_str = np.array2string(A,\n",
    "                        formatter={'float_kind': lambda x: f'{x:6.3f}'},\n",
    "                        prefix='    ',\n",
    "                        max_line_width=np.inf)\n",
    "\n",
    "print(f'A = {A_str}')"
   ]
  },
  {
   "cell_type": "markdown",
   "id": "2d30d018",
   "metadata": {},
   "source": [
    "Show $B$ (formatted nicely)."
   ]
  },
  {
   "cell_type": "code",
   "execution_count": 30,
   "id": "f865ba42",
   "metadata": {},
   "outputs": [
    {
     "name": "stdout",
     "output_type": "stream",
     "text": [
      "B = [[      0.000       0.000       0.000       0.000]\n",
      "     [      0.000       0.000       0.000       0.000]\n",
      "     [      0.000       0.000       0.000       0.000]\n",
      "     [      0.000       0.000       0.000       0.000]\n",
      "     [      0.000       0.000       0.000       0.000]\n",
      "     [      0.000       0.000       0.000       0.000]\n",
      "     [      0.000       0.000       0.000       0.000]\n",
      "     [      0.000       0.000       0.000       0.000]\n",
      "     [      0.000       0.000       0.000      28.571]\n",
      "     [      0.000       0.000       0.000       0.000]\n",
      "     [      0.000       0.000       0.000       0.000]\n",
      "     [      0.000       0.000   26737.968       0.000]\n",
      "     [     13.333       0.000       0.000       0.000]\n",
      "     [      0.000      13.333       0.000       0.000]]\n"
     ]
    }
   ],
   "source": [
    "B_str = np.array2string(B,\n",
    "                        formatter={'float_kind': lambda x: f'{x:11.3f}'},\n",
    "                        prefix='    ',\n",
    "                        max_line_width=np.inf)\n",
    "\n",
    "print(f'B = {B_str}')"
   ]
  },
  {
   "cell_type": "markdown",
   "id": "1f59afeb",
   "metadata": {},
   "source": [
    "The state-space system is described by\n",
    "\n",
    "$$ \\dot{x} = Ax + Bu $$\n",
    "\n",
    "where\n",
    "\n",
    "$$ x = s - s_\\text{eq} $$\n",
    "\n",
    "and\n",
    "\n",
    "$$ u = i - i_\\text{eq}. $$"
   ]
  },
  {
   "cell_type": "markdown",
   "id": "49f68983",
   "metadata": {},
   "source": [
    "Note that $A$ and $B$ would remain the same for any choice of `p_x`, `p_y`, and `p_z` — that is another thing that allows the controller to track desired values of these variables."
   ]
  },
  {
   "cell_type": "markdown",
   "id": "b2302b9f",
   "metadata": {},
   "source": [
    "## 4. Design method of power distribution"
   ]
  },
  {
   "cell_type": "markdown",
   "id": "469a9638",
   "metadata": {},
   "source": [
    "Define constants."
   ]
  },
  {
   "cell_type": "code",
   "execution_count": 31,
   "id": "0e40099b",
   "metadata": {},
   "outputs": [],
   "source": [
    "k_F = 1.74e-06\n",
    "k_M = 7.48e-09\n",
    "l = 0.033"
   ]
  },
  {
   "cell_type": "markdown",
   "id": "f03ac63e",
   "metadata": {},
   "source": [
    "Define the matrix $P$ that maps motor power commands ($m_1$, $m_2$, $m_3$, $m_4$) to inputs ($\\tau_x$, $\\tau_y$, $\\tau_z$, $f_z$)."
   ]
  },
  {
   "cell_type": "code",
   "execution_count": 32,
   "id": "18eddaae",
   "metadata": {},
   "outputs": [],
   "source": [
    "P = np.array([[ -l * k_F, -l * k_F,  l * k_F,  l * k_F  ],\n",
    "              [ -l * k_F, l * k_F,   l * k_F,  -l * k_F ],\n",
    "              [ -k_M,     k_M,       -k_M,     k_M      ],\n",
    "              [ k_F,      k_F,       k_F,      k_F      ]])"
   ]
  },
  {
   "cell_type": "markdown",
   "id": "1ab6b76f",
   "metadata": {},
   "source": [
    "Compute the matrix $P^{-1}$ that maps inputs to motor power commands."
   ]
  },
  {
   "cell_type": "code",
   "execution_count": 33,
   "id": "dd6880d2",
   "metadata": {},
   "outputs": [],
   "source": [
    "Pinv = linalg.inv(P)"
   ]
  },
  {
   "cell_type": "markdown",
   "id": "e6b139b0",
   "metadata": {},
   "source": [
    "Show the matrix $P^{-1}$ (formatted nicely)."
   ]
  },
  {
   "cell_type": "code",
   "execution_count": 34,
   "id": "031e0455",
   "metadata": {},
   "outputs": [
    {
     "name": "stdout",
     "output_type": "stream",
     "text": [
      "inv(P) = [[  -4353883.7   -4353883.7  -33422459.9     143678.2]\n",
      "          [  -4353883.7    4353883.7   33422459.9     143678.2]\n",
      "          [   4353883.7    4353883.7  -33422459.9     143678.2]\n",
      "          [   4353883.7   -4353883.7   33422459.9     143678.2]]\n"
     ]
    }
   ],
   "source": [
    "Pinv_str = np.array2string(Pinv,\n",
    "                           formatter={'float_kind': lambda x: f'{x:12.1f}'},\n",
    "                           prefix='         ',\n",
    "                           max_line_width=np.inf)\n",
    "\n",
    "print(f'inv(P) = {Pinv_str}')"
   ]
  },
  {
   "cell_type": "markdown",
   "id": "eb4b3907",
   "metadata": {},
   "source": [
    "Print code that implements the method of power distribution in C (compare this code to $P^{-1}$)."
   ]
  },
  {
   "cell_type": "code",
   "execution_count": 35,
   "id": "c53537c2",
   "metadata": {},
   "outputs": [
    {
     "name": "stdout",
     "output_type": "stream",
     "text": [
      "m_1 = limitUint16( -4353883.7f * tau_x_cmd -4353883.7f * tau_y_cmd -33422459.9f * tau_z + 143678.2f * f_z );\n",
      "m_2 = limitUint16( -4353883.7f * tau_x_cmd + 4353883.7f * tau_y_cmd + 33422459.9f * tau_z + 143678.2f * f_z );\n",
      "m_3 = limitUint16( 4353883.7f * tau_x_cmd + 4353883.7f * tau_y_cmd -33422459.9f * tau_z + 143678.2f * f_z );\n",
      "m_4 = limitUint16( 4353883.7f * tau_x_cmd -4353883.7f * tau_y_cmd + 33422459.9f * tau_z + 143678.2f * f_z );\n"
     ]
    }
   ],
   "source": [
    "export_power_distribution(\n",
    "    Pinv,\n",
    "    i=i,\n",
    "    limiter='limitUint16',\n",
    "    suffix='f',\n",
    "    line_ending=';',\n",
    ")"
   ]
  },
  {
   "cell_type": "markdown",
   "id": "6f948b8f",
   "metadata": {},
   "source": [
    "## 5. Design, implement, and test a sequence of controllers"
   ]
  },
  {
   "cell_type": "markdown",
   "id": "d9394430",
   "metadata": {},
   "source": [
    "### 5.x Flight test (template)"
   ]
  },
  {
   "cell_type": "markdown",
   "id": "1d7dd0e3",
   "metadata": {},
   "source": [
    "Choose the weighting matrices $Q$ and $R$."
   ]
  },
  {
   "cell_type": "code",
   "execution_count": 36,
   "id": "cfe7e1a9",
   "metadata": {},
   "outputs": [],
   "source": [
    "Q = np.diag([\n",
    "    1.,\n",
    "    1.,\n",
    "    1.,\n",
    "    1.,\n",
    "    1.,\n",
    "    1.,\n",
    "    1.,\n",
    "    1.,\n",
    "    1.,\n",
    "    1.,\n",
    "    1.,\n",
    "    1.,\n",
    "])\n",
    "\n",
    "# FIXME\n",
    "R = np.diag([\n",
    "    1.,\n",
    "    1.,\n",
    "    1.,\n",
    "    1.,\n",
    "])"
   ]
  },
  {
   "cell_type": "markdown",
   "id": "da9be333",
   "metadata": {},
   "source": [
    "Find the gain matrix $K$."
   ]
  },
  {
   "cell_type": "code",
   "execution_count": 37,
   "id": "29b7f15d",
   "metadata": {},
   "outputs": [
    {
     "ename": "ValueError",
     "evalue": "Matrix a and q should have the same shape.",
     "output_type": "error",
     "traceback": [
      "\u001b[0;31m---------------------------------------------------------------------------\u001b[0m",
      "\u001b[0;31mValueError\u001b[0m                                Traceback (most recent call last)",
      "Cell \u001b[0;32mIn[37], line 1\u001b[0m\n\u001b[0;32m----> 1\u001b[0m K \u001b[38;5;241m=\u001b[39m \u001b[43mlqr\u001b[49m\u001b[43m(\u001b[49m\u001b[43mA\u001b[49m\u001b[43m,\u001b[49m\u001b[43m \u001b[49m\u001b[43mB\u001b[49m\u001b[43m,\u001b[49m\u001b[43m \u001b[49m\u001b[43mQ\u001b[49m\u001b[43m,\u001b[49m\u001b[43m \u001b[49m\u001b[43mR\u001b[49m\u001b[43m)\u001b[49m\n",
      "Cell \u001b[0;32mIn[4], line 2\u001b[0m, in \u001b[0;36mlqr\u001b[0;34m(A, B, Q, R)\u001b[0m\n\u001b[1;32m      1\u001b[0m \u001b[38;5;28;01mdef\u001b[39;00m \u001b[38;5;21mlqr\u001b[39m(A, B, Q, R):\n\u001b[0;32m----> 2\u001b[0m     P \u001b[38;5;241m=\u001b[39m \u001b[43mlinalg\u001b[49m\u001b[38;5;241;43m.\u001b[39;49m\u001b[43msolve_continuous_are\u001b[49m\u001b[43m(\u001b[49m\u001b[43mA\u001b[49m\u001b[43m,\u001b[49m\u001b[43m \u001b[49m\u001b[43mB\u001b[49m\u001b[43m,\u001b[49m\u001b[43m \u001b[49m\u001b[43mQ\u001b[49m\u001b[43m,\u001b[49m\u001b[43m \u001b[49m\u001b[43mR\u001b[49m\u001b[43m)\u001b[49m\n\u001b[1;32m      3\u001b[0m     K \u001b[38;5;241m=\u001b[39m linalg\u001b[38;5;241m.\u001b[39minv(R) \u001b[38;5;241m@\u001b[39m  B\u001b[38;5;241m.\u001b[39mT \u001b[38;5;241m@\u001b[39m P\n\u001b[1;32m      4\u001b[0m     \u001b[38;5;28;01mreturn\u001b[39;00m K\n",
      "File \u001b[0;32m~/miniforge3/envs/ae483/lib/python3.12/site-packages/scipy/linalg/_solvers.py:446\u001b[0m, in \u001b[0;36msolve_continuous_are\u001b[0;34m(a, b, q, r, e, s, balanced)\u001b[0m\n\u001b[1;32m    327\u001b[0m \u001b[38;5;250m\u001b[39m\u001b[38;5;124mr\u001b[39m\u001b[38;5;124;03m\"\"\"\u001b[39;00m\n\u001b[1;32m    328\u001b[0m \u001b[38;5;124;03mSolves the continuous-time algebraic Riccati equation (CARE).\u001b[39;00m\n\u001b[1;32m    329\u001b[0m \n\u001b[0;32m   (...)\u001b[0m\n\u001b[1;32m    442\u001b[0m \n\u001b[1;32m    443\u001b[0m \u001b[38;5;124;03m\"\"\"\u001b[39;00m\n\u001b[1;32m    445\u001b[0m \u001b[38;5;66;03m# Validate input arguments\u001b[39;00m\n\u001b[0;32m--> 446\u001b[0m a, b, q, r, e, s, m, n, r_or_c, gen_are \u001b[38;5;241m=\u001b[39m \u001b[43m_are_validate_args\u001b[49m\u001b[43m(\u001b[49m\n\u001b[1;32m    447\u001b[0m \u001b[43m                                                 \u001b[49m\u001b[43ma\u001b[49m\u001b[43m,\u001b[49m\u001b[43m \u001b[49m\u001b[43mb\u001b[49m\u001b[43m,\u001b[49m\u001b[43m \u001b[49m\u001b[43mq\u001b[49m\u001b[43m,\u001b[49m\u001b[43m \u001b[49m\u001b[43mr\u001b[49m\u001b[43m,\u001b[49m\u001b[43m \u001b[49m\u001b[43me\u001b[49m\u001b[43m,\u001b[49m\u001b[43m \u001b[49m\u001b[43ms\u001b[49m\u001b[43m,\u001b[49m\u001b[43m \u001b[49m\u001b[38;5;124;43m'\u001b[39;49m\u001b[38;5;124;43mcare\u001b[39;49m\u001b[38;5;124;43m'\u001b[39;49m\u001b[43m)\u001b[49m\n\u001b[1;32m    449\u001b[0m H \u001b[38;5;241m=\u001b[39m np\u001b[38;5;241m.\u001b[39mempty((\u001b[38;5;241m2\u001b[39m\u001b[38;5;241m*\u001b[39mm\u001b[38;5;241m+\u001b[39mn, \u001b[38;5;241m2\u001b[39m\u001b[38;5;241m*\u001b[39mm\u001b[38;5;241m+\u001b[39mn), dtype\u001b[38;5;241m=\u001b[39mr_or_c)\n\u001b[1;32m    450\u001b[0m H[:m, :m] \u001b[38;5;241m=\u001b[39m a\n",
      "File \u001b[0;32m~/miniforge3/envs/ae483/lib/python3.12/site-packages/scipy/linalg/_solvers.py:804\u001b[0m, in \u001b[0;36m_are_validate_args\u001b[0;34m(a, b, q, r, e, s, eq_type)\u001b[0m\n\u001b[1;32m    802\u001b[0m     \u001b[38;5;28;01mraise\u001b[39;00m \u001b[38;5;167;01mValueError\u001b[39;00m(\u001b[38;5;124m\"\u001b[39m\u001b[38;5;124mMatrix a and b should have the same number of rows.\u001b[39m\u001b[38;5;124m\"\u001b[39m)\n\u001b[1;32m    803\u001b[0m \u001b[38;5;28;01mif\u001b[39;00m m \u001b[38;5;241m!=\u001b[39m q\u001b[38;5;241m.\u001b[39mshape[\u001b[38;5;241m0\u001b[39m]:\n\u001b[0;32m--> 804\u001b[0m     \u001b[38;5;28;01mraise\u001b[39;00m \u001b[38;5;167;01mValueError\u001b[39;00m(\u001b[38;5;124m\"\u001b[39m\u001b[38;5;124mMatrix a and q should have the same shape.\u001b[39m\u001b[38;5;124m\"\u001b[39m)\n\u001b[1;32m    805\u001b[0m \u001b[38;5;28;01mif\u001b[39;00m n \u001b[38;5;241m!=\u001b[39m r\u001b[38;5;241m.\u001b[39mshape[\u001b[38;5;241m0\u001b[39m]:\n\u001b[1;32m    806\u001b[0m     \u001b[38;5;28;01mraise\u001b[39;00m \u001b[38;5;167;01mValueError\u001b[39;00m(\u001b[38;5;124m\"\u001b[39m\u001b[38;5;124mMatrix b and r should have the same number of cols.\u001b[39m\u001b[38;5;124m\"\u001b[39m)\n",
      "\u001b[0;31mValueError\u001b[0m: Matrix a and q should have the same shape."
     ]
    }
   ],
   "source": [
    "K = lqr(A, B, Q, R)"
   ]
  },
  {
   "cell_type": "markdown",
   "id": "4905e431",
   "metadata": {},
   "source": [
    "Show $K$ (formatted nicely)."
   ]
  },
  {
   "cell_type": "code",
   "execution_count": 37,
   "id": "d46235f0",
   "metadata": {},
   "outputs": [
    {
     "name": "stdout",
     "output_type": "stream",
     "text": [
      "K = [[-0.00000 -1.00000  0.00000  0.00000 -0.00000  5.42964 -0.00000 -1.45154  0.00000  1.00007 -0.00000 -0.00000]\n",
      "     [ 1.00000 -0.00000  0.00000  0.00000  5.42970  0.00000  1.45154 -0.00000 -0.00000 -0.00000  1.00010  0.00000]\n",
      "     [ 0.00000  0.00000  0.00000  1.00000  0.00000 -0.00000  0.00000  0.00000  0.00000 -0.00000  0.00000  1.00004]\n",
      "     [-0.00000  0.00000  1.00000  0.00000 -0.00000  0.00000 -0.00000 -0.00000  1.03441  0.00000 -0.00000  0.00000]]\n"
     ]
    }
   ],
   "source": [
    "K_str = np.array2string(K,\n",
    "                        formatter={'float_kind': lambda x: f'{x:8.5f}'},\n",
    "                        prefix='    ',\n",
    "                        max_line_width=np.inf)\n",
    "\n",
    "print(f'K = {K_str}')"
   ]
  },
  {
   "cell_type": "markdown",
   "id": "3b9e9295",
   "metadata": {},
   "source": [
    "Print code that implements the controller in C."
   ]
  },
  {
   "cell_type": "code",
   "execution_count": 38,
   "id": "844f1be0",
   "metadata": {},
   "outputs": [
    {
     "name": "stdout",
     "output_type": "stream",
     "text": [
      "tau_x = 1.00000000f * (p_y - p_y_des) -5.42963630f * phi + 1.45153694f * v_y -1.00007221f * w_x;\n",
      "tau_y = -1.00000000f * (p_x - p_x_des) -5.42970322f * theta -1.45154164f * v_x -1.00009773f * w_y;\n",
      "tau_z = -1.00000000f * psi -1.00003740f * w_z;\n",
      "f_z = -1.00000000f * (p_z - p_z_des) -1.03440804f * v_z + 0.34335000f;\n"
     ]
    }
   ],
   "source": [
    "export_controller(\n",
    "    K,               # the gain matrix\n",
    "    s,               # list of states as symbolic variables\n",
    "    i,               # list of inputs as symbolic variables\n",
    "    s_with_des,      # list of states that have desired values as symbolic variables\n",
    "    i_eq,            # list of equilibrium values of inputs\n",
    "    suffix='f',      # character to print after each number (indicates a \"float\")\n",
    "    line_ending=';'  # character to print after each line\n",
    ")"
   ]
  },
  {
   "cell_type": "markdown",
   "id": "38847b8f",
   "metadata": {},
   "source": [
    "Load and resample data."
   ]
  },
  {
   "cell_type": "code",
   "execution_count": 39,
   "id": "43e61219",
   "metadata": {},
   "outputs": [
    {
     "ename": "FileNotFoundError",
     "evalue": "[Errno 2] No such file or directory: 'hardware_data_x.json'",
     "output_type": "error",
     "traceback": [
      "\u001b[0;31m---------------------------------------------------------------------------\u001b[0m",
      "\u001b[0;31mFileNotFoundError\u001b[0m                         Traceback (most recent call last)",
      "Cell \u001b[0;32mIn[39], line 2\u001b[0m\n\u001b[1;32m      1\u001b[0m \u001b[38;5;66;03m# Load data\u001b[39;00m\n\u001b[0;32m----> 2\u001b[0m raw_data, raw_data_mocap \u001b[38;5;241m=\u001b[39m \u001b[43mload_hardware_data\u001b[49m\u001b[43m(\u001b[49m\n\u001b[1;32m      3\u001b[0m \u001b[43m    \u001b[49m\u001b[38;5;124;43m'\u001b[39;49m\u001b[38;5;124;43mhardware_data_x.json\u001b[39;49m\u001b[38;5;124;43m'\u001b[39;49m\u001b[43m,\u001b[49m\u001b[43m     \u001b[49m\u001b[38;5;66;43;03m# <-- FIXME\u001b[39;49;00m\n\u001b[1;32m      4\u001b[0m \u001b[43m)\u001b[49m\n\u001b[1;32m      6\u001b[0m \u001b[38;5;66;03m# Resample data\u001b[39;00m\n\u001b[1;32m      7\u001b[0m data_drone \u001b[38;5;241m=\u001b[39m resample_data_drone(\n\u001b[1;32m      8\u001b[0m     raw_data,\n\u001b[1;32m      9\u001b[0m     t_min_offset\u001b[38;5;241m=\u001b[39m\u001b[38;5;241m0.\u001b[39m,            \u001b[38;5;66;03m# <-- FIXME\u001b[39;00m\n\u001b[1;32m     10\u001b[0m     t_max_offset\u001b[38;5;241m=\u001b[39m\u001b[38;5;241m0.\u001b[39m,            \u001b[38;5;66;03m# <-- FIXME\u001b[39;00m\n\u001b[1;32m     11\u001b[0m )\n",
      "File \u001b[0;32m/mnt/windows/Documents/Schoolwork/24-25/AE483/crazyflie-client/lab05/ae483tools.py:8\u001b[0m, in \u001b[0;36mload_hardware_data\u001b[0;34m(filename)\u001b[0m\n\u001b[1;32m      7\u001b[0m \u001b[38;5;28;01mdef\u001b[39;00m \u001b[38;5;21mload_hardware_data\u001b[39m(filename):\n\u001b[0;32m----> 8\u001b[0m     \u001b[38;5;28;01mwith\u001b[39;00m \u001b[38;5;28;43mopen\u001b[39;49m\u001b[43m(\u001b[49m\u001b[43mPath\u001b[49m\u001b[43m(\u001b[49m\u001b[43mfilename\u001b[49m\u001b[43m)\u001b[49m\u001b[43m,\u001b[49m\u001b[43m \u001b[49m\u001b[38;5;124;43m'\u001b[39;49m\u001b[38;5;124;43mr\u001b[39;49m\u001b[38;5;124;43m'\u001b[39;49m\u001b[43m)\u001b[49m \u001b[38;5;28;01mas\u001b[39;00m f:\n\u001b[1;32m      9\u001b[0m         data \u001b[38;5;241m=\u001b[39m json\u001b[38;5;241m.\u001b[39mload(f)\n\u001b[1;32m     10\u001b[0m         \u001b[38;5;28;01mreturn\u001b[39;00m data[\u001b[38;5;124m'\u001b[39m\u001b[38;5;124mdrone\u001b[39m\u001b[38;5;124m'\u001b[39m], data[\u001b[38;5;124m'\u001b[39m\u001b[38;5;124mmocap\u001b[39m\u001b[38;5;124m'\u001b[39m]\n",
      "\u001b[0;31mFileNotFoundError\u001b[0m: [Errno 2] No such file or directory: 'hardware_data_x.json'"
     ]
    }
   ],
   "source": [
    "# Load data\n",
    "raw_data, raw_data_mocap = load_hardware_data(\n",
    "    'hardware_data_x.json',     # <-- FIXME\n",
    ")\n",
    "\n",
    "# Resample data\n",
    "data_drone = resample_data_drone(\n",
    "    raw_data,\n",
    "    t_min_offset=0.,            # <-- FIXME\n",
    "    t_max_offset=0.,            # <-- FIXME\n",
    ")"
   ]
  },
  {
   "cell_type": "markdown",
   "id": "ec804f90",
   "metadata": {},
   "source": [
    "Parse data."
   ]
  },
  {
   "cell_type": "code",
   "execution_count": null,
   "id": "1d45c5d9",
   "metadata": {},
   "outputs": [],
   "source": [
    "# time\n",
    "t = data_drone['time']\n",
    "\n",
    "# position\n",
    "p_x = data_drone['ae483log.p_x']\n",
    "p_y = data_drone['ae483log.p_y']\n",
    "p_z = data_drone['ae483log.p_z']\n",
    "\n",
    "# desired position\n",
    "p_x_des = data_drone['ae483log.p_x_des']\n",
    "p_y_des = data_drone['ae483log.p_y_des']\n",
    "p_z_des = data_drone['ae483log.p_z_des']\n",
    "\n",
    "# orientation\n",
    "psi = data_drone['ae483log.psi']\n",
    "theta = data_drone['ae483log.theta']\n",
    "phi = data_drone['ae483log.phi']\n",
    "\n",
    "# motor power commands\n",
    "m_1 = data_drone['ae483log.m_1']\n",
    "m_2 = data_drone['ae483log.m_2']\n",
    "m_3 = data_drone['ae483log.m_3']\n",
    "m_4 = data_drone['ae483log.m_4']"
   ]
  },
  {
   "cell_type": "markdown",
   "id": "1f302019",
   "metadata": {},
   "source": [
    "Plot position, desired position, orientation, and motor power commands."
   ]
  },
  {
   "cell_type": "code",
   "execution_count": 39,
   "id": "97440c3c",
   "metadata": {},
   "outputs": [
    {
     "ename": "NameError",
     "evalue": "name 't' is not defined",
     "output_type": "error",
     "traceback": [
      "\u001b[0;31m---------------------------------------------------------------------------\u001b[0m",
      "\u001b[0;31mNameError\u001b[0m                                 Traceback (most recent call last)",
      "Cell \u001b[0;32mIn[39], line 2\u001b[0m\n\u001b[1;32m      1\u001b[0m fig, (ax_pos, ax_ori, ax_pow) \u001b[38;5;241m=\u001b[39m plt\u001b[38;5;241m.\u001b[39msubplots(\u001b[38;5;241m3\u001b[39m, \u001b[38;5;241m1\u001b[39m, figsize\u001b[38;5;241m=\u001b[39m(\u001b[38;5;241m8\u001b[39m, \u001b[38;5;241m8\u001b[39m), sharex\u001b[38;5;241m=\u001b[39m\u001b[38;5;28;01mTrue\u001b[39;00m, tight_layout\u001b[38;5;241m=\u001b[39m\u001b[38;5;28;01mTrue\u001b[39;00m)\n\u001b[0;32m----> 2\u001b[0m px \u001b[38;5;241m=\u001b[39m ax_pos\u001b[38;5;241m.\u001b[39mplot(\u001b[43mt\u001b[49m, p_x, label\u001b[38;5;241m=\u001b[39m\u001b[38;5;124mf\u001b[39m\u001b[38;5;124m'\u001b[39m\u001b[38;5;124mp_x\u001b[39m\u001b[38;5;124m'\u001b[39m)\n\u001b[1;32m      3\u001b[0m py \u001b[38;5;241m=\u001b[39m ax_pos\u001b[38;5;241m.\u001b[39mplot(t, p_y, label\u001b[38;5;241m=\u001b[39m\u001b[38;5;124mf\u001b[39m\u001b[38;5;124m'\u001b[39m\u001b[38;5;124mp_y\u001b[39m\u001b[38;5;124m'\u001b[39m)\n\u001b[1;32m      4\u001b[0m pz \u001b[38;5;241m=\u001b[39m ax_pos\u001b[38;5;241m.\u001b[39mplot(t, p_z, label\u001b[38;5;241m=\u001b[39m\u001b[38;5;124mf\u001b[39m\u001b[38;5;124m'\u001b[39m\u001b[38;5;124mp_z\u001b[39m\u001b[38;5;124m'\u001b[39m)\n",
      "\u001b[0;31mNameError\u001b[0m: name 't' is not defined"
     ]
    },
    {
     "data": {
      "image/png": "[encoded data removed]",
      "text/plain": [
       "<Figure size 800x800 with 3 Axes>"
      ]
     },
     "metadata": {},
     "output_type": "display_data"
    }
   ],
   "source": [
    "fig, (ax_pos, ax_ori, ax_pow) = plt.subplots(3, 1, figsize=(8, 8), sharex=True, tight_layout=True)\n",
    "px = ax_pos.plot(t, p_x, label=f'p_x')\n",
    "py = ax_pos.plot(t, p_y, label=f'p_y')\n",
    "pz = ax_pos.plot(t, p_z, label=f'p_z')\n",
    "ax_pos.plot(t, p_x_des, '--', label=f'p_x (desired)', color=px[0].get_color())\n",
    "ax_pos.plot(t, p_y_des, '--', label=f'p_y (desired)', color=py[0].get_color())\n",
    "ax_pos.plot(t, p_z_des, '--', label=f'p_z (desired)', color=pz[0].get_color())\n",
    "ax_pos.legend()\n",
    "ax_pos.grid()\n",
    "ax_ori.plot(t, psi, label='psi')\n",
    "ax_ori.plot(t, theta, label='theta')\n",
    "ax_ori.plot(t, phi, label='phi')\n",
    "ax_ori.legend()\n",
    "ax_ori.grid()\n",
    "ax_pow.plot(t, m_1, label='m_1')\n",
    "ax_pow.plot(t, m_2, label='m_2')\n",
    "ax_pow.plot(t, m_3, label='m_3')\n",
    "ax_pow.plot(t, m_4, label='m_4')\n",
    "ax_pow.legend()\n",
    "ax_pow.grid()\n",
    "ax_pow.set_xlabel('time (s)')\n",
    "plt.show()"
   ]
  },
  {
   "cell_type": "code",
   "execution_count": 55,
   "id": "af17a0d0",
   "metadata": {},
   "outputs": [],
   "source": [
    "\n",
    "\n",
    "def plot_drone_data(filename, t_min_offset=0., t_max_offset=0.):\n",
    "\n",
    "    raw_data, raw_data_mocap = load_hardware_data(filename)\n",
    "\n",
    "    # Resample data\n",
    "    data = resample_data_drone(\n",
    "        raw_data,\n",
    "        t_min_offset=t_min_offset,\n",
    "        t_max_offset=t_max_offset,\n",
    "    )\n",
    "    # time\n",
    "    t = data['time']\n",
    "\n",
    "    # position\n",
    "    p_x = data['ae483log.p_x']\n",
    "    p_y = data['ae483log.p_y']\n",
    "    p_z = data['ae483log.p_z']\n",
    "\n",
    "    # desired position\n",
    "    p_x_des = data['ae483log.p_x_des']\n",
    "    p_y_des = data['ae483log.p_y_des']\n",
    "    p_z_des = data['ae483log.p_z_des']\n",
    "\n",
    "    # orientation\n",
    "    psi = data['ae483log.psi']\n",
    "    theta = data['ae483log.theta']\n",
    "    phi = data['ae483log.phi']\n",
    "\n",
    "    # motor power commands\n",
    "    m_1 = data['ae483log.m_1']\n",
    "    m_2 = data['ae483log.m_2']\n",
    "    m_3 = data['ae483log.m_3']\n",
    "    m_4 = data['ae483log.m_4']\n",
    "\n",
    "    # torque commands\n",
    "    # tau_xc = data['ae483log.tau_x_cmd']\n",
    "    # tau_yc = data['ae483log.tau_y_cmd']\n",
    "\n",
    "    fig, (ax_pos, ax_ori, ax_pow) = plt.subplots(3, 1, figsize=(8, 8), sharex=True, tight_layout=True)\n",
    "    px = ax_pos.plot(t, p_x, label=f'p_x')\n",
    "    py = ax_pos.plot(t, p_y, label=f'p_y')\n",
    "    pz = ax_pos.plot(t, p_z, label=f'p_z')\n",
    "    ax_pos.plot(t, p_x_des, '--', label=f'p_x (desired)', color=px[0].get_color())\n",
    "    ax_pos.plot(t, p_y_des, '--', label=f'p_y (desired)', color=py[0].get_color())\n",
    "    ax_pos.plot(t, p_z_des, '--', label=f'p_z (desired)', color=pz[0].get_color())\n",
    "    ax_pos.legend()\n",
    "    ax_pos.grid()\n",
    "    ax_ori.plot(t, psi, label='psi')\n",
    "    ax_ori.plot(t, theta, label='theta')\n",
    "    ax_ori.plot(t, phi, label='phi')\n",
    "    ax_ori.legend()\n",
    "    ax_ori.grid()\n",
    "    ax_pow.plot(t, m_1, label='m_1')\n",
    "    ax_pow.plot(t, m_2, label='m_2')\n",
    "    ax_pow.plot(t, m_3, label='m_3')\n",
    "    ax_pow.plot(t, m_4, label='m_4')\n",
    "    ax_pow.legend()\n",
    "    ax_pow.grid()\n",
    "    ax_pow.set_xlabel('time (s)')\n",
    "    # ax_tau.plot(t, tau_xc, label=r'$\\tau_{xc}$')\n",
    "    # ax_tau.plot(t, tau_yc, label=r'$\\tau_{yc}$')\n",
    "    # ax_tau.legend()\n",
    "    plt.show()\n",
    "\n",
    "    return fig, (ax_pos, ax_ori, ax_pow)"
   ]
  },
  {
   "cell_type": "markdown",
   "id": "35c39766",
   "metadata": {},
   "source": [
    "### 5.1 Flight test 1"
   ]
  },
  {
   "cell_type": "markdown",
   "id": "e1868368",
   "metadata": {},
   "source": [
    "Begin with values from model without time delay."
   ]
  },
  {
   "cell_type": "code",
   "execution_count": 39,
   "id": "c03c2738",
   "metadata": {},
   "outputs": [
    {
     "name": "stdout",
     "output_type": "stream",
     "text": [
      "K = [[ 0.00000 -0.01326  0.00000  0.00000  0.00000  0.01066  0.00000 -0.00550  0.00000  0.00114  0.00000  0.00000  2.72351  0.00000]\n",
      "     [ 0.01326  0.00000 -0.00000 -0.00000  0.01118  0.00000  0.00562 -0.00000 -0.00000  0.00000  0.00125 -0.00000  0.00000  2.37986]\n",
      "     [-0.00000  0.00000 -0.00000  0.00122 -0.00000 -0.00000 -0.00000  0.00000 -0.00000 -0.00000 -0.00000  0.00031  0.00000 -0.00000]\n",
      "     [-0.00000  0.00000  0.40184 -0.00000 -0.00000  0.00000 -0.00000 -0.00000  0.16820  0.00000 -0.00000 -0.00000  0.00000 -0.00000]]\n",
      "tau_x_cmd = 0.01326058f * (p_y - p_y_des) -0.01065823f * phi + 0.00549737f * v_y -0.00114006f * w_x -2.72351061f * tau_x;\n",
      "tau_y_cmd = -0.01326058f * (p_x - p_x_des) -0.01117565f * theta -0.00562316f * v_x -0.00125002f * w_y -2.37986356f * tau_y;\n",
      "tau_z = -0.00122148f * psi -0.00031199f * w_z;\n",
      "f_z = -0.40183579f * (p_z - p_z_des) -0.16819625f * v_z + 0.34335000f;\n"
     ]
    }
   ],
   "source": [
    "delta = 10000\n",
    "\n",
    "Q = np.diag([\n",
    "    500.,\n",
    "    500.,\n",
    "    500.,\n",
    "    250.,\n",
    "    25.,\n",
    "    30.,\n",
    "    4.,\n",
    "    4.,\n",
    "    0.5,\n",
    "    1.,\n",
    "    1.,\n",
    "    1.,\n",
    "    0.1 * (1. / (4 * k_F * l * delta))**2,\n",
    "    0.1 * (1. / (4 * k_F * l * delta))**2\n",
    "])\n",
    "\n",
    "R = 15 * np.diag([\n",
    "    (1. / (4 * k_F * l * delta))**2,\n",
    "    (1. / (4 * k_F * l * delta))**2,\n",
    "    (1. / (4 * k_M * delta))**2,\n",
    "    (1. / (4 * k_F * delta))**2\n",
    "    # (1 / (0.1 * J_x))**2,\n",
    "    # (1 / (0.1 * J_y))**2,\n",
    "    # (1 / (0.1 * J_z))**2,\n",
    "    # (1 / (0.1 * g * m))**2\n",
    "    # 2.5e4,\n",
    "    # 1.3e4,\n",
    "    # 3.1e3,\n",
    "    # 100\n",
    "])\n",
    "\n",
    "# Q = np.diag([2, 2, 6, 0.1, 0.1, 1, 10, 1.5, 1.5, 0.2, 0.2, 0.4])\n",
    "\n",
    "# R = np.diag([1, 1, 1, 2])\n",
    "\n",
    "K = lqr(A, B, Q, R)\n",
    "\n",
    "K_str = np.array2string(K,\n",
    "                        formatter={'float_kind': lambda x: f'{x:8.5f}'},\n",
    "                        prefix='    ',\n",
    "                        max_line_width=np.inf)\n",
    "\n",
    "print(f'K = {K_str}')\n",
    "\n",
    "export_controller(\n",
    "    K,               # the gain matrix\n",
    "    s,               # list of states as symbolic variables\n",
    "    i,               # list of inputs as symbolic variables\n",
    "    s_with_des,      # list of states that have desired values as symbolic variables\n",
    "    i_eq,            # list of equilibrium values of inputs\n",
    "    suffix='f',      # character to print after each number (indicates a \"float\")\n",
    "    line_ending=';'  # character to print after each line\n",
    ")"
   ]
  },
  {
   "cell_type": "code",
   "execution_count": 50,
   "id": "4fad6fce",
   "metadata": {},
   "outputs": [
    {
     "name": "stdout",
     "output_type": "stream",
     "text": [
      "[[3.2000000e+01 0.0000000e+00 0.0000000e+00 0.0000000e+00 0.0000000e+00\n",
      "  0.0000000e+00 0.0000000e+00 0.0000000e+00 0.0000000e+00 0.0000000e+00\n",
      "  0.0000000e+00 0.0000000e+00 0.0000000e+00 0.0000000e+00]\n",
      " [0.0000000e+00 3.2000000e+01 0.0000000e+00 0.0000000e+00 0.0000000e+00\n",
      "  0.0000000e+00 0.0000000e+00 0.0000000e+00 0.0000000e+00 0.0000000e+00\n",
      "  0.0000000e+00 0.0000000e+00 0.0000000e+00 0.0000000e+00]\n",
      " [0.0000000e+00 0.0000000e+00 5.0000000e+02 0.0000000e+00 0.0000000e+00\n",
      "  0.0000000e+00 0.0000000e+00 0.0000000e+00 0.0000000e+00 0.0000000e+00\n",
      "  0.0000000e+00 0.0000000e+00 0.0000000e+00 0.0000000e+00]\n",
      " [0.0000000e+00 0.0000000e+00 0.0000000e+00 1.0000000e+02 0.0000000e+00\n",
      "  0.0000000e+00 0.0000000e+00 0.0000000e+00 0.0000000e+00 0.0000000e+00\n",
      "  0.0000000e+00 0.0000000e+00 0.0000000e+00 0.0000000e+00]\n",
      " [0.0000000e+00 0.0000000e+00 0.0000000e+00 0.0000000e+00 8.0000000e+00\n",
      "  0.0000000e+00 0.0000000e+00 0.0000000e+00 0.0000000e+00 0.0000000e+00\n",
      "  0.0000000e+00 0.0000000e+00 0.0000000e+00 0.0000000e+00]\n",
      " [0.0000000e+00 0.0000000e+00 0.0000000e+00 0.0000000e+00 0.0000000e+00\n",
      "  5.0000000e+00 0.0000000e+00 0.0000000e+00 0.0000000e+00 0.0000000e+00\n",
      "  0.0000000e+00 0.0000000e+00 0.0000000e+00 0.0000000e+00]\n",
      " [0.0000000e+00 0.0000000e+00 0.0000000e+00 0.0000000e+00 0.0000000e+00\n",
      "  0.0000000e+00 4.0000000e+00 0.0000000e+00 0.0000000e+00 0.0000000e+00\n",
      "  0.0000000e+00 0.0000000e+00 0.0000000e+00 0.0000000e+00]\n",
      " [0.0000000e+00 0.0000000e+00 0.0000000e+00 0.0000000e+00 0.0000000e+00\n",
      "  0.0000000e+00 0.0000000e+00 4.0000000e+00 0.0000000e+00 0.0000000e+00\n",
      "  0.0000000e+00 0.0000000e+00 0.0000000e+00 0.0000000e+00]\n",
      " [0.0000000e+00 0.0000000e+00 0.0000000e+00 0.0000000e+00 0.0000000e+00\n",
      "  0.0000000e+00 0.0000000e+00 0.0000000e+00 5.0000000e-01 0.0000000e+00\n",
      "  0.0000000e+00 0.0000000e+00 0.0000000e+00 0.0000000e+00]\n",
      " [0.0000000e+00 0.0000000e+00 0.0000000e+00 0.0000000e+00 0.0000000e+00\n",
      "  0.0000000e+00 0.0000000e+00 0.0000000e+00 0.0000000e+00 1.0000000e+00\n",
      "  0.0000000e+00 0.0000000e+00 0.0000000e+00 0.0000000e+00]\n",
      " [0.0000000e+00 0.0000000e+00 0.0000000e+00 0.0000000e+00 0.0000000e+00\n",
      "  0.0000000e+00 0.0000000e+00 0.0000000e+00 0.0000000e+00 0.0000000e+00\n",
      "  1.0000000e+00 0.0000000e+00 0.0000000e+00 0.0000000e+00]\n",
      " [0.0000000e+00 0.0000000e+00 0.0000000e+00 0.0000000e+00 0.0000000e+00\n",
      "  0.0000000e+00 0.0000000e+00 0.0000000e+00 0.0000000e+00 0.0000000e+00\n",
      "  0.0000000e+00 1.0000000e+00 0.0000000e+00 0.0000000e+00]\n",
      " [0.0000000e+00 0.0000000e+00 0.0000000e+00 0.0000000e+00 0.0000000e+00\n",
      "  0.0000000e+00 0.0000000e+00 0.0000000e+00 0.0000000e+00 0.0000000e+00\n",
      "  0.0000000e+00 0.0000000e+00 1.8956303e+04 0.0000000e+00]\n",
      " [0.0000000e+00 0.0000000e+00 0.0000000e+00 0.0000000e+00 0.0000000e+00\n",
      "  0.0000000e+00 0.0000000e+00 0.0000000e+00 0.0000000e+00 0.0000000e+00\n",
      "  0.0000000e+00 0.0000000e+00 0.0000000e+00 1.8956303e+04]]\n",
      "[[2.84344544e+06 0.00000000e+00 0.00000000e+00 0.00000000e+00]\n",
      " [0.00000000e+00 2.84344544e+06 0.00000000e+00 0.00000000e+00]\n",
      " [0.00000000e+00 0.00000000e+00 1.67559124e+08 0.00000000e+00]\n",
      " [0.00000000e+00 0.00000000e+00 0.00000000e+00 3.09651209e+03]]\n"
     ]
    }
   ],
   "source": [
    "print(np.array2string(Q))\n",
    "\n",
    "print(np.array2string(R))"
   ]
  },
  {
   "cell_type": "markdown",
   "id": "92e16703",
   "metadata": {},
   "source": [
    "Load and resample data."
   ]
  },
  {
   "cell_type": "code",
   "execution_count": 40,
   "id": "3aafa616",
   "metadata": {},
   "outputs": [
    {
     "ename": "NameError",
     "evalue": "name 'plot_drone_data' is not defined",
     "output_type": "error",
     "traceback": [
      "\u001b[0;31m---------------------------------------------------------------------------\u001b[0m",
      "\u001b[0;31mNameError\u001b[0m                                 Traceback (most recent call last)",
      "Cell \u001b[0;32mIn[40], line 1\u001b[0m\n\u001b[0;32m----> 1\u001b[0m \u001b[43mplot_drone_data\u001b[49m(\u001b[38;5;124m\"\u001b[39m\u001b[38;5;124mhardware_data_4.json\u001b[39m\u001b[38;5;124m\"\u001b[39m)\n",
      "\u001b[0;31mNameError\u001b[0m: name 'plot_drone_data' is not defined"
     ]
    }
   ],
   "source": [
    "plot_drone_data(\"hardware_data_4.json\")"
   ]
  },
  {
   "cell_type": "markdown",
   "id": "6d013171",
   "metadata": {},
   "source": [
    "### 5.1 Flight test 1"
   ]
  },
  {
   "cell_type": "markdown",
   "id": "f599f2b2",
   "metadata": {},
   "source": [
    "Begin with values from model without time delay."
   ]
  },
  {
   "cell_type": "code",
   "execution_count": 78,
   "id": "088c50f4",
   "metadata": {},
   "outputs": [
    {
     "name": "stdout",
     "output_type": "stream",
     "text": [
      "K = [[ 0.00000 -0.00291 -0.00000  0.00000  0.00000  0.00600  0.00000 -0.00215  0.00000  0.00086  0.00000  0.00000  2.27653  0.00000]\n",
      "     [ 0.00514 -0.00000 -0.00000 -0.00000  0.00740  0.00000  0.00297 -0.00000 -0.00000  0.00000  0.00100 -0.00000  0.00000  2.05520]\n",
      "     [-0.00000 -0.00000 -0.00000  0.00022 -0.00000  0.00000 -0.00000 -0.00000 -0.00000  0.00000 -0.00000  0.00015  0.00000 -0.00000]\n",
      "     [ 0.00000  0.00000  0.42621 -0.00000  0.00000 -0.00000  0.00000  0.00000  0.17308  0.00000  0.00000 -0.00000  0.00000 -0.00000]]\n",
      "tau_x_cmd = 0.00290525f * (p_y - p_y_des) -0.00599662f * phi + 0.00214636f * v_y -0.00086278f * w_x -2.27653118f * tau_x;\n",
      "tau_y_cmd = -0.00513580f * (p_x - p_x_des) -0.00739941f * theta -0.00296692f * v_x -0.00099951f * w_y -2.05520015f * tau_y;\n",
      "tau_z = -0.00022189f * psi -0.00014517f * w_z;\n",
      "f_z = -0.42621122f * (p_z - p_z_des) -0.17307770f * v_z + 0.34335000f;\n"
     ]
    }
   ],
   "source": [
    "delta = 10000\n",
    "\n",
    "Q = np.diag([\n",
    "    100.,\n",
    "    32.,\n",
    "    750.,\n",
    "    11.,\n",
    "    8.,\n",
    "    8.,\n",
    "    4.,\n",
    "    4.,\n",
    "    0.5,\n",
    "    1.,\n",
    "    1.,\n",
    "    1.,\n",
    "    0.1 * (1. / (4 * k_F * l * delta))**2,\n",
    "    0.1 * (1. / (4 * k_F * l * delta))**2\n",
    "])\n",
    "\n",
    "R = 20 * np.diag([\n",
    "    (1. / (4 * k_F * l * delta))**2,\n",
    "    (1. / (4 * k_F * l * delta))**2,\n",
    "    (1. / (4 * k_M * delta))**2,\n",
    "    (1. / (4 * k_F * delta))**2\n",
    "    # (1 / (0.1 * J_x))**2,\n",
    "    # (1 / (0.1 * J_y))**2,\n",
    "    # (1 / (0.1 * J_z))**2,\n",
    "    # (1 / (0.1 * g * m))**2\n",
    "    # 2.5e4,\n",
    "    # 1.3e4,\n",
    "    # 3.1e3,\n",
    "    # 100\n",
    "])\n",
    "\n",
    "# Q = np.diag([2, 2, 6, 0.1, 0.1, 1, 10, 1.5, 1.5, 0.2, 0.2, 0.4])\n",
    "\n",
    "# R = np.diag([1, 1, 1, 2])\n",
    "\n",
    "K = lqr(A, B, Q, R)\n",
    "\n",
    "K_str = np.array2string(K,\n",
    "                        formatter={'float_kind': lambda x: f'{x:8.5f}'},\n",
    "                        prefix='    ',\n",
    "                        max_line_width=np.inf)\n",
    "\n",
    "print(f'K = {K_str}')\n",
    "\n",
    "export_controller(\n",
    "    K,               # the gain matrix\n",
    "    s,               # list of states as symbolic variables\n",
    "    i,               # list of inputs as symbolic variables\n",
    "    s_with_des,      # list of states that have desired values as symbolic variables\n",
    "    i_eq,            # list of equilibrium values of inputs\n",
    "    suffix='f',      # character to print after each number (indicates a \"float\")\n",
    "    line_ending=';'  # character to print after each line\n",
    ")"
   ]
  },
  {
   "cell_type": "code",
   "execution_count": 41,
   "id": "8aff91fd",
   "metadata": {},
   "outputs": [
    {
     "name": "stdout",
     "output_type": "stream",
     "text": [
      "[[3.2000000e+01 0.0000000e+00 0.0000000e+00 0.0000000e+00 0.0000000e+00\n",
      "  0.0000000e+00 0.0000000e+00 0.0000000e+00 0.0000000e+00 0.0000000e+00\n",
      "  0.0000000e+00 0.0000000e+00 0.0000000e+00 0.0000000e+00]\n",
      " [0.0000000e+00 3.2000000e+01 0.0000000e+00 0.0000000e+00 0.0000000e+00\n",
      "  0.0000000e+00 0.0000000e+00 0.0000000e+00 0.0000000e+00 0.0000000e+00\n",
      "  0.0000000e+00 0.0000000e+00 0.0000000e+00 0.0000000e+00]\n",
      " [0.0000000e+00 0.0000000e+00 5.0000000e+02 0.0000000e+00 0.0000000e+00\n",
      "  0.0000000e+00 0.0000000e+00 0.0000000e+00 0.0000000e+00 0.0000000e+00\n",
      "  0.0000000e+00 0.0000000e+00 0.0000000e+00 0.0000000e+00]\n",
      " [0.0000000e+00 0.0000000e+00 0.0000000e+00 1.1000000e+01 0.0000000e+00\n",
      "  0.0000000e+00 0.0000000e+00 0.0000000e+00 0.0000000e+00 0.0000000e+00\n",
      "  0.0000000e+00 0.0000000e+00 0.0000000e+00 0.0000000e+00]\n",
      " [0.0000000e+00 0.0000000e+00 0.0000000e+00 0.0000000e+00 5.0000000e+00\n",
      "  0.0000000e+00 0.0000000e+00 0.0000000e+00 0.0000000e+00 0.0000000e+00\n",
      "  0.0000000e+00 0.0000000e+00 0.0000000e+00 0.0000000e+00]\n",
      " [0.0000000e+00 0.0000000e+00 0.0000000e+00 0.0000000e+00 0.0000000e+00\n",
      "  5.0000000e+00 0.0000000e+00 0.0000000e+00 0.0000000e+00 0.0000000e+00\n",
      "  0.0000000e+00 0.0000000e+00 0.0000000e+00 0.0000000e+00]\n",
      " [0.0000000e+00 0.0000000e+00 0.0000000e+00 0.0000000e+00 0.0000000e+00\n",
      "  0.0000000e+00 4.0000000e+00 0.0000000e+00 0.0000000e+00 0.0000000e+00\n",
      "  0.0000000e+00 0.0000000e+00 0.0000000e+00 0.0000000e+00]\n",
      " [0.0000000e+00 0.0000000e+00 0.0000000e+00 0.0000000e+00 0.0000000e+00\n",
      "  0.0000000e+00 0.0000000e+00 4.0000000e+00 0.0000000e+00 0.0000000e+00\n",
      "  0.0000000e+00 0.0000000e+00 0.0000000e+00 0.0000000e+00]\n",
      " [0.0000000e+00 0.0000000e+00 0.0000000e+00 0.0000000e+00 0.0000000e+00\n",
      "  0.0000000e+00 0.0000000e+00 0.0000000e+00 5.0000000e-01 0.0000000e+00\n",
      "  0.0000000e+00 0.0000000e+00 0.0000000e+00 0.0000000e+00]\n",
      " [0.0000000e+00 0.0000000e+00 0.0000000e+00 0.0000000e+00 0.0000000e+00\n",
      "  0.0000000e+00 0.0000000e+00 0.0000000e+00 0.0000000e+00 1.0000000e+00\n",
      "  0.0000000e+00 0.0000000e+00 0.0000000e+00 0.0000000e+00]\n",
      " [0.0000000e+00 0.0000000e+00 0.0000000e+00 0.0000000e+00 0.0000000e+00\n",
      "  0.0000000e+00 0.0000000e+00 0.0000000e+00 0.0000000e+00 0.0000000e+00\n",
      "  1.0000000e+00 0.0000000e+00 0.0000000e+00 0.0000000e+00]\n",
      " [0.0000000e+00 0.0000000e+00 0.0000000e+00 0.0000000e+00 0.0000000e+00\n",
      "  0.0000000e+00 0.0000000e+00 0.0000000e+00 0.0000000e+00 0.0000000e+00\n",
      "  0.0000000e+00 1.0000000e+00 0.0000000e+00 0.0000000e+00]\n",
      " [0.0000000e+00 0.0000000e+00 0.0000000e+00 0.0000000e+00 0.0000000e+00\n",
      "  0.0000000e+00 0.0000000e+00 0.0000000e+00 0.0000000e+00 0.0000000e+00\n",
      "  0.0000000e+00 0.0000000e+00 1.8956303e+04 0.0000000e+00]\n",
      " [0.0000000e+00 0.0000000e+00 0.0000000e+00 0.0000000e+00 0.0000000e+00\n",
      "  0.0000000e+00 0.0000000e+00 0.0000000e+00 0.0000000e+00 0.0000000e+00\n",
      "  0.0000000e+00 0.0000000e+00 0.0000000e+00 1.8956303e+04]]\n",
      "[[2.84344544e+06 0.00000000e+00 0.00000000e+00 0.00000000e+00]\n",
      " [0.00000000e+00 2.84344544e+06 0.00000000e+00 0.00000000e+00]\n",
      " [0.00000000e+00 0.00000000e+00 1.67559124e+08 0.00000000e+00]\n",
      " [0.00000000e+00 0.00000000e+00 0.00000000e+00 3.09651209e+03]]\n"
     ]
    }
   ],
   "source": [
    "print(np.array2string(Q))\n",
    "\n",
    "print(np.array2string(R))"
   ]
  },
  {
   "cell_type": "markdown",
   "id": "db819e18",
   "metadata": {},
   "source": [
    "Load and resample data."
   ]
  },
  {
   "cell_type": "code",
   "execution_count": 44,
   "id": "51d174fb",
   "metadata": {},
   "outputs": [
    {
     "ename": "NameError",
     "evalue": "name 'plot_drone_data' is not defined",
     "output_type": "error",
     "traceback": [
      "\u001b[0;31m---------------------------------------------------------------------------\u001b[0m",
      "\u001b[0;31mNameError\u001b[0m                                 Traceback (most recent call last)",
      "Cell \u001b[0;32mIn[44], line 1\u001b[0m\n\u001b[0;32m----> 1\u001b[0m \u001b[43mplot_drone_data\u001b[49m(\u001b[38;5;124m\"\u001b[39m\u001b[38;5;124mhardware_data_6.json\u001b[39m\u001b[38;5;124m\"\u001b[39m)\n",
      "\u001b[0;31mNameError\u001b[0m: name 'plot_drone_data' is not defined"
     ]
    }
   ],
   "source": [
    "plot_drone_data(\"hardware_data_6.json\")"
   ]
  },
  {
   "cell_type": "code",
   "execution_count": null,
   "id": "0003b241",
   "metadata": {},
   "outputs": [],
   "source": []
  },
  {
   "cell_type": "markdown",
   "id": "113154db",
   "metadata": {},
   "source": [
    "We increased the R multiplier to 20 from 15 to account for changes in the Q matrix. We also set the Q values to be 0.1 times Bryson's rule for $\\tau_x$ and $\\tau_y$, as the Bryson's rule values resulted in somewhat aggressive corrections.\n",
    "\n",
    "We also increaseed the $p_z$ and $p_x$ weights greatly, as our flights often exhibited large deviations in $p_x$ and $p_z$ before.\n",
    "\n",
    "Finally, we increased the $\\theta$ and $\\phi$ weights from 5 to 8 to decrease variation, especially at the beginning of the flight.\n",
    "\n",
    "Our biggest struggle was in figuring out how to prevent the motor from saturating originally."
   ]
  }
 ],
 "metadata": {
  "kernelspec": {
   "display_name": "ae483",
   "language": "python",
   "name": "python3"
  },
  "language_info": {
   "codemirror_mode": {
    "name": "ipython",
    "version": 3
   },
   "file_extension": ".py",
   "mimetype": "text/x-python",
   "name": "python",
   "nbconvert_exporter": "python",
   "pygments_lexer": "ipython3",
   "version": "3.12.5"
  }
 },
 "nbformat": 4,
 "nbformat_minor": 5
}
