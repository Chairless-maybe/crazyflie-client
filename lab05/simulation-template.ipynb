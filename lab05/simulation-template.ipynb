{
 "cells": [
  {
   "cell_type": "markdown",
   "id": "4ebc0d9a",
   "metadata": {},
   "source": [
    "# 0. Requirements"
   ]
  },
  {
   "cell_type": "markdown",
   "id": "3f2760c9",
   "metadata": {},
   "source": [
    "To run this notebook, start jupyter notebook with the ae483 environment active (see [MacOS](https://canvas.illinois.edu/courses/7116/modules/items/1230512) or [Windows](https://canvas.illinois.edu/courses/7116/modules/items/1270318) instructions for how to create this environment). If you want to record videos, then you will also need to add [imageio](https://github.com/imageio/imageio) and [imageio-ffmpeg](https://github.com/imageio/imageio-ffmpeg) to this environment from a terminal (MacOS) or an anaconda powershell (Windows) before starting jupyter notebook, as follows:\n",
    "```\n",
    "pip install imageio\n",
    "pip install imageio-ffmpeg\n",
    "\n",
    "```\n",
    "You will only need to do this once."
   ]
  },
  {
   "cell_type": "markdown",
   "id": "f4233d19",
   "metadata": {},
   "source": [
    "# 1. Set up the notebook"
   ]
  },
  {
   "cell_type": "markdown",
   "id": "38bcc561",
   "metadata": {},
   "source": [
    "Import all the modules we need."
   ]
  },
  {
   "cell_type": "code",
   "execution_count": null,
   "id": "294d9f2d",
   "metadata": {},
   "outputs": [],
   "source": [
    "# These are standard modules\n",
    "import numpy as np\n",
    "import sympy as sym\n",
    "import matplotlib.pyplot as plt\n",
    "\n",
    "# This is a custom interface to the pybullet simulator\n",
    "import ae483_drone"
   ]
  },
  {
   "cell_type": "markdown",
   "id": "984b36e3",
   "metadata": {},
   "source": [
    "# 2. Start the simulator"
   ]
  },
  {
   "cell_type": "markdown",
   "id": "environmental-refrigerator",
   "metadata": {},
   "source": [
    "Create an instance of the `Simulator` class, which is an interface to the [pybullet](http://pybullet.org) simulation engine.\n",
    "\n",
    "There are three optional arguments:\n",
    "\n",
    "* `display` (`True` or `False`) is whether or not to show the simulation window - if you are recording videos or generating data, it is faster not to show the window;\n",
    "* `width` and `height` (positive integers) are the dimensions of the simulation window - these will also be the dimeensions of snapshots or videos that are generated.\n",
    "\n",
    "**You must evaluate this cell only *once*.** If you want to start fresh with a new simulator, you must do `Kernel -> Restart` from the notebook menu first. If you evaluate this cell more than once without a call to `Kernel -> Restart` then you may get strange behavior that is hard to debug. (If you would like to help eliminate this strange behavior - which is a consequence of issues with how pybullet interacts with MacOS - by contributing to the pybullet open-source project, contact [Prof. Bretl](mailto:tbretl@illinois.edu).)"
   ]
  },
  {
   "cell_type": "code",
   "execution_count": null,
   "id": "needed-motion",
   "metadata": {},
   "outputs": [],
   "source": [
    "simulator = ae483_drone.Simulator(\n",
    "    display=True,\n",
    "    width=640,\n",
    "    height=480,\n",
    ")"
   ]
  },
  {
   "cell_type": "markdown",
   "id": "6028d045",
   "metadata": {},
   "source": [
    "# 3. Run experiments"
   ]
  },
  {
   "cell_type": "markdown",
   "id": "fd195d6e",
   "metadata": {},
   "source": [
    "## 3.x Flight test (template)\n",
    "\n",
    "Each time you duplicate this section, replace the title with a brief description of your current flight test."
   ]
  },
  {
   "cell_type": "markdown",
   "id": "ee5797bd",
   "metadata": {},
   "source": [
    "### 3.x.1 Create a client"
   ]
  },
  {
   "cell_type": "markdown",
   "id": "34e48103",
   "metadata": {},
   "source": [
    "The \"client\" specifies the desired position and yaw angle at a given time."
   ]
  },
  {
   "cell_type": "code",
   "execution_count": null,
   "id": "9a920c40",
   "metadata": {},
   "outputs": [],
   "source": [
    "class RobotClient:\n",
    "    def __init__(self):\n",
    "        pass\n",
    "    \n",
    "    def run(self, t):\n",
    "        o_x = 0.\n",
    "        o_y = 0.\n",
    "        o_z = 0.3\n",
    "        psi = 0.\n",
    "        \n",
    "        return {\n",
    "            'o_x': o_x,\n",
    "            'o_y': o_y,\n",
    "            'o_z': o_z,\n",
    "            'psi': psi,\n",
    "        }"
   ]
  },
  {
   "cell_type": "markdown",
   "id": "99417eeb",
   "metadata": {},
   "source": [
    "### 3.x.2 Create a controller"
   ]
  },
  {
   "cell_type": "markdown",
   "id": "afb49414",
   "metadata": {},
   "source": [
    "The \"controller\" specifies the motor power commands at a given state and setpoint."
   ]
  },
  {
   "cell_type": "code",
   "execution_count": null,
   "id": "41661130",
   "metadata": {},
   "outputs": [],
   "source": [
    "class RobotController:\n",
    "    def __init__(self):\n",
    "        pass\n",
    "\n",
    "    def limitUint16(self, m):\n",
    "        \"\"\"\n",
    "        This function returns the closest integer to \"m\" in the\n",
    "        range [0, 65535]. It is called \"limitUint16\" because an\n",
    "        \"unsigned 16-bit integer\" is limited to this range.\n",
    "        \"\"\"\n",
    "        m = np.round(m, decimals=0)\n",
    "        if m < 0:\n",
    "            m = 0\n",
    "        elif m > 65535:\n",
    "            m = 65535\n",
    "        return m\n",
    "\n",
    "    def run(self, state, setpoint):\n",
    "        # Parse state\n",
    "        o_x = state['o_x']\n",
    "        o_y = state['o_y']\n",
    "        o_z = state['o_z']\n",
    "        psi = state['psi']\n",
    "        theta = state['theta']\n",
    "        phi = state['phi']\n",
    "        v_x = state['v_x']\n",
    "        v_y = state['v_y']\n",
    "        v_z = state['v_z']\n",
    "        w_x = state['w_x']\n",
    "        w_y = state['w_y']\n",
    "        w_z = state['w_z']\n",
    "        \n",
    "        # Parse setpoint\n",
    "        o_x_des = setpoint['o_x_des']\n",
    "        o_y_des = setpoint['o_y_des']\n",
    "        o_z_des = setpoint['o_z_des']\n",
    "        \n",
    "        # FIXME: Add code here to compute net torques and net force\n",
    "        #\n",
    "        #  tau_x = ...\n",
    "        #  tau_y = ...\n",
    "        #  tau_z = ...\n",
    "        #  f_z = ...\n",
    "        \n",
    "        # FIXME: Replace code here to compute motor power commands\n",
    "        m_1 = 0.\n",
    "        m_2 = 0.\n",
    "        m_3 = 0.\n",
    "        m_4 = 0.\n",
    "        \n",
    "        return m_1, m_2, m_3, m_4"
   ]
  },
  {
   "cell_type": "markdown",
   "id": "b01bb472",
   "metadata": {},
   "source": [
    "### 3.x.3 Add a drone with this client and controller to the simulator"
   ]
  },
  {
   "cell_type": "markdown",
   "id": "262608d5",
   "metadata": {},
   "source": [
    "Remove all existing drones from the simulator."
   ]
  },
  {
   "cell_type": "code",
   "execution_count": null,
   "id": "25380d24",
   "metadata": {},
   "outputs": [],
   "source": [
    "simulator.clear_drones()"
   ]
  },
  {
   "cell_type": "markdown",
   "id": "79c62b81",
   "metadata": {},
   "source": [
    "Add a new drone to the simulator.\n",
    "\n",
    "There are three required arguments:\n",
    "\n",
    "* the name of the drone (a string), for example `my_drone`\n",
    "* the class that defines the client, for example `RobotClient`\n",
    "* the class that defines the controller, for example `RobotController`\n",
    "\n",
    "There is one optional argument that allows you to change the appearance of the drone (if you want) - this is useful if you simulate more than one drone at a time:\n",
    "\n",
    "* `rgba` is a list of four numbers between 0 and 1 (red, green, blue, alpha) that define an [RGBA color](https://en.wikipedia.org/wiki/RGBA_color_model)\n",
    "\n",
    "There are eight optional arguments that allow you to change the physical parameters that govern the drone (mass, moments of inertia, and so forth). You **must** change the values of these arguments if you want the simulated drone to match your real drone.\n",
    "\n",
    "* `m`, `J_x`, `J_y`, `J_z`, `g`, `l`, `k_F`, `k_M` are scalar parameters"
   ]
  },
  {
   "cell_type": "code",
   "execution_count": null,
   "id": "b90edb96",
   "metadata": {},
   "outputs": [],
   "source": [
    "simulator.add_drone(\n",
    "    'my_drone',\n",
    "    RobotClient,\n",
    "    RobotController,\n",
    "    rgba=[1., 0., 1., 1.],\n",
    "    m=0.032,   # <-- FIXME\n",
    "    J_x=1e-5,  # <-- FIXME\n",
    "    J_y=1e-5,  # <-- FIXME\n",
    "    J_z=2e-5,  # <-- FIXME\n",
    "    g=9.81,    # <-- FIXME\n",
    "    l=0.035,   # <-- FIXME\n",
    "    k_F=2e-6,  # <-- FIXME\n",
    "    k_M=1e-8,  # <-- FIXME\n",
    ")"
   ]
  },
  {
   "cell_type": "markdown",
   "id": "a11dd95c",
   "metadata": {},
   "source": [
    "Set the initial state of this drone. Here, as an example, we start the drone near the desired position that was specified by the client."
   ]
  },
  {
   "cell_type": "code",
   "execution_count": null,
   "id": "7b195145",
   "metadata": {},
   "outputs": [],
   "source": [
    "simulator.set_state(\n",
    "    'my_drone',\n",
    "    {\n",
    "        'o_x': 0.01,\n",
    "        'o_y': -0.02,\n",
    "        'o_z': 0.27,\n",
    "        'psi': 0.,\n",
    "        'theta': 0.,\n",
    "        'phi': 0.,\n",
    "        'v_x': 0.,\n",
    "        'v_y': 0.,\n",
    "        'v_z': 0.,\n",
    "        'w_x': 0.,\n",
    "        'w_y': 0.,\n",
    "        'w_z': 0.,\n",
    "    },\n",
    ")"
   ]
  },
  {
   "cell_type": "markdown",
   "id": "a9df3180",
   "metadata": {},
   "source": [
    "You could repeat this process to add more drones, if you want to test more than one client and controller (or more than one initial state) at a time."
   ]
  },
  {
   "cell_type": "markdown",
   "id": "4bae8a77",
   "metadata": {},
   "source": [
    "### 3.x.4 Set the camera view (optional)"
   ]
  },
  {
   "cell_type": "markdown",
   "id": "681e9d9d",
   "metadata": {},
   "source": [
    "Here is how to make the camera always look at a certain point (in this case, a point that is 0.3 meters above the origin of the world frame):"
   ]
  },
  {
   "cell_type": "code",
   "execution_count": null,
   "id": "64bbc641",
   "metadata": {},
   "outputs": [],
   "source": [
    "simulator.set_camera_target([0.0, 0.0, 0.3])"
   ]
  },
  {
   "cell_type": "markdown",
   "id": "ccff49bf",
   "metadata": {},
   "source": [
    "Here is how to make the camera always look at a certain drone (in this case, the one called `my_drone`):"
   ]
  },
  {
   "cell_type": "code",
   "execution_count": null,
   "id": "203af483",
   "metadata": {},
   "outputs": [],
   "source": [
    "simulator.set_camera_target('my_drone')"
   ]
  },
  {
   "cell_type": "markdown",
   "id": "774ca03f",
   "metadata": {},
   "source": [
    "Here is how to get a top view:"
   ]
  },
  {
   "cell_type": "code",
   "execution_count": null,
   "id": "00f451be",
   "metadata": {},
   "outputs": [],
   "source": [
    "simulator.camera_topview()"
   ]
  },
  {
   "cell_type": "markdown",
   "id": "b69865a1",
   "metadata": {},
   "source": [
    "Here is how to get a side view:"
   ]
  },
  {
   "cell_type": "code",
   "execution_count": null,
   "id": "78480532",
   "metadata": {},
   "outputs": [],
   "source": [
    "simulator.camera_sideview()"
   ]
  },
  {
   "cell_type": "markdown",
   "id": "1f6fbe04",
   "metadata": {},
   "source": [
    "Here is how to change the yaw angle of the camera (i.e., to make the camera rotate about the point it is looking at):"
   ]
  },
  {
   "cell_type": "code",
   "execution_count": null,
   "id": "5f6bc770",
   "metadata": {},
   "outputs": [],
   "source": [
    "simulator.set_camera_yaw(45)"
   ]
  },
  {
   "cell_type": "markdown",
   "id": "834d04a4",
   "metadata": {},
   "source": [
    "Here is how to change the distance between the camera and the point it is looking at:"
   ]
  },
  {
   "cell_type": "code",
   "execution_count": null,
   "id": "e9bf9db3",
   "metadata": {},
   "outputs": [],
   "source": [
    "simulator.set_camera_distance(1.0)"
   ]
  },
  {
   "cell_type": "markdown",
   "id": "0c139788",
   "metadata": {},
   "source": [
    "### 3.x.5 Run the simulator"
   ]
  },
  {
   "cell_type": "markdown",
   "id": "67195bdc",
   "metadata": {},
   "source": [
    "Here is how to run the simulator for 10 seconds while saving data to the file `simulation_data.json` and saving video to the file `simulation_video.json`.\n",
    "\n",
    "If you do not need to save video and want this to run much faster, then specify `video_filename=None`."
   ]
  },
  {
   "cell_type": "code",
   "execution_count": null,
   "id": "f8526f69",
   "metadata": {},
   "outputs": [],
   "source": [
    "simulator.run(\n",
    "    max_time=10.,\n",
    "    data_filename='simulation_data.json',\n",
    "    video_filename='simulation_video.mov',\n",
    ")"
   ]
  },
  {
   "cell_type": "markdown",
   "id": "28db6c97",
   "metadata": {},
   "source": [
    "Be careful! Both the data file and the video file will be overwritten if they already exist. We suggest you use a different name for each experiment."
   ]
  }
 ],
 "metadata": {
  "kernelspec": {
   "display_name": "Python 3 (ipykernel)",
   "language": "python",
   "name": "python3"
  },
  "language_info": {
   "codemirror_mode": {
    "name": "ipython",
    "version": 3
   },
   "file_extension": ".py",
   "mimetype": "text/x-python",
   "name": "python",
   "nbconvert_exporter": "python",
   "pygments_lexer": "ipython3",
   "version": "3.9.6"
  }
 },
 "nbformat": 4,
 "nbformat_minor": 5
}
